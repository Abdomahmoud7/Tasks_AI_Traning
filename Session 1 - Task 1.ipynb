{
 "cells": [
  {
   "cell_type": "code",
   "execution_count": null,
   "id": "295fae30-ffad-46a0-bb05-32c530345c53",
   "metadata": {},
   "outputs": [],
   "source": [
    "# Task 1\n",
    "\n",
    "# *ما هو معني ال ( _ ) في نهاية اسم ال variable و الي ماذا ترمز \n",
    "# ال variable ده مش بتاع الكلاس هوا اتعمله generate في فانكشن\n",
    "# بس هوا مش تبع الكلاس بنعمله ريتيرن من الفانكشن داخل الكلاس تميزا ليه\n"
   ]
  },
  {
   "cell_type": "code",
   "execution_count": 1,
   "id": "0f281c02-4fad-4064-8557-41ebe2eda04e",
   "metadata": {},
   "outputs": [
    {
     "name": "stdin",
     "output_type": "stream",
     "text": [
      "Enter The Length Area:  15.678\n",
      "Enter The Width Area:  17.96\n"
     ]
    },
    {
     "name": "stdout",
     "output_type": "stream",
     "text": [
      "The Are is = 281.58\n"
     ]
    }
   ],
   "source": [
    "# 1\n",
    "\"\"\"Q1. Write a program to calculate the \n",
    "area of a rectangle with given length and width.\"\"\"\n",
    "\n",
    "# area = length * width\n",
    "\n",
    "length = float(input(\"Enter The Length Area: \"))\n",
    "\n",
    "width = float(input(\"Enter The Width Area: \"))\n",
    "\n",
    "area = length * width\n",
    "\n",
    "print(f\"The Are is = {area:.2f}\")"
   ]
  },
  {
   "cell_type": "code",
   "execution_count": 2,
   "id": "3454a210-947b-4fe6-a8ab-300f5b53576a",
   "metadata": {},
   "outputs": [
    {
     "name": "stdin",
     "output_type": "stream",
     "text": [
      "Enter number:  2\n"
     ]
    },
    {
     "name": "stdout",
     "output_type": "stream",
     "text": [
      "Number (2) Is Even\n"
     ]
    }
   ],
   "source": [
    "# 2\n",
    "\"\"\"Q2. Write a program that takes an integer input from the user \n",
    "and prints whether it's even or odd.\"\"\"\n",
    "\n",
    "num_input = int(input(\"Enter number: \"))\n",
    "\n",
    "if num_input % 2 == 0:\n",
    "    print(f\"Number ({num_input}) Is Even\")\n",
    "else:\n",
    "    print(f\"Number ({num_input}) Is Odd\")"
   ]
  },
  {
   "cell_type": "code",
   "execution_count": 1,
   "id": "b535ab89-0cda-4db0-82e9-4d9fdacd6e51",
   "metadata": {},
   "outputs": [
    {
     "name": "stdin",
     "output_type": "stream",
     "text": [
      "Enter 3 Numbers:  123\n"
     ]
    },
    {
     "name": "stdout",
     "output_type": "stream",
     "text": [
      "6\n"
     ]
    }
   ],
   "source": [
    "# 3\n",
    "\"\"\"Q3. Write a program that takes a three-digit \n",
    "number as input and calculates the sum of its digits.\"\"\"\n",
    "\n",
    "def sum_of_digit(number):\n",
    "    \n",
    "    num_str = str(number)\n",
    "\n",
    "    if len(num_str) != 3:\n",
    "        raise ValueError(\"The Number Must be Three Digit number\")\n",
    "    \n",
    "    sum_num = int(num_str[0]) + int(num_str[1]) + int(num_str[2])\n",
    "\n",
    "    return sum_num\n",
    "\n",
    "input_num = int(input(\"Enter 3 Numbers: \"))\n",
    "\n",
    "result = sum_of_digit(input_num)\n",
    "\n",
    "print(result)"
   ]
  },
  {
   "cell_type": "code",
   "execution_count": null,
   "id": "10c1f1d9-bcce-4dd9-a2f1-c31440bdd27b",
   "metadata": {},
   "outputs": [],
   "source": [
    "# Q4. Create two strings and concatenate them to form a third string.\n",
    "\n",
    "string1 = 'Hello'\n",
    "\n",
    "string2 = 'Abdo'\n",
    "\n",
    "concat_string = string1 + ' ' + string2\n",
    "\n",
    "print(concat_string)"
   ]
  },
  {
   "cell_type": "code",
   "execution_count": null,
   "id": "6ce8179a-0b35-4bb8-8405-1571c254d2f4",
   "metadata": {},
   "outputs": [],
   "source": [
    "\"\"\"Q5. Write a program that compares two numbers \n",
    "and prints whether the first number is greater, \n",
    "smaller, or equal to the second number.\"\"\"\n",
    "\n",
    "num1 = int(input(\"Enter Number 1: \"))\n",
    "\n",
    "num2 = int(input(\"Enter Number 2: \"))\n",
    "\n",
    "if num1 > num2:\n",
    "    print(f\"The Num One ({num1}) Is Greater Than Num Two ({num2})\")\n",
    "elif num1 < num2:\n",
    "    print(f\"The Num One ({num1}) Is Smaller Than Num Two ({num2})\")\n",
    "else:\n",
    "    print(f\"The Num One ({num1}) Is Equal Than Num Two ({num2})\")\n",
    "\n"
   ]
  },
  {
   "cell_type": "code",
   "execution_count": null,
   "id": "942effe6-9ded-41a9-9564-61251bbdae18",
   "metadata": {},
   "outputs": [],
   "source": [
    "\"\"\"Q6. Write a program to print the first five even numbers.\"\"\"\n",
    "\n",
    "count = 0\n",
    "\n",
    "even_5_num = []\n",
    "\n",
    "while True:\n",
    "    num_input = int(input(\"Enter Num: \"))\n",
    "\n",
    "    if num_input % 2 == 0:\n",
    "        even_5_num.append(num_input)\n",
    "        count+=1\n",
    "    \n",
    "    if count == 5:\n",
    "        break\n",
    "\n",
    "\n",
    "print(\"The 5 Number Even Are: \")\n",
    "print(*even_5_num, sep = \", \")"
   ]
  },
  {
   "cell_type": "code",
   "execution_count": null,
   "id": "934a5bb7-3d53-46ca-8570-e988cadabead",
   "metadata": {},
   "outputs": [],
   "source": [
    "\"\"\"Q7. Write a program that takes a string \n",
    "as input and prints it in reverse order.\"\"\"\n",
    "\n",
    "str_input = input(\"Enter The Word: \")\n",
    "\n",
    "revers_str = str_input[::-1]\n",
    "\n",
    "print(f\"The Reverse is: {revers_str}\")"
   ]
  },
  {
   "cell_type": "code",
   "execution_count": 2,
   "id": "07b14a9e-1b51-4e95-b89d-0d1f21a5a051",
   "metadata": {},
   "outputs": [
    {
     "name": "stdin",
     "output_type": "stream",
     "text": [
      "Enter The Number:  5\n"
     ]
    },
    {
     "name": "stdout",
     "output_type": "stream",
     "text": [
      "Number 5 Is Positive.\n"
     ]
    }
   ],
   "source": [
    "\"\"\"Q8. Write a program that takes a number as input \n",
    "and prints \"Positive\" if it's greater than 0, \n",
    "\"Negative\" if it's less than 0, and \"Zero\" if it's equal to 0.\"\"\"\n",
    "\n",
    "num_input = int(input(\"Enter The Number: \"))\n",
    "\n",
    "if num_input > 0:\n",
    "    print(f\"Number {num_input} Is Positive.\")\n",
    "elif num_input < 0:\n",
    "    print(f\"Number {num_input} Is Negative.\")\n",
    "else:\n",
    "    print(f\"Number Is Zero.\")"
   ]
  },
  {
   "cell_type": "code",
   "execution_count": 3,
   "id": "bb9cbf55-8372-4c2b-b4c7-85c294e9c791",
   "metadata": {},
   "outputs": [
    {
     "name": "stdin",
     "output_type": "stream",
     "text": [
      "Enter The Fahrenheit:  70\n"
     ]
    },
    {
     "name": "stdout",
     "output_type": "stream",
     "text": [
      "Temperature in degrees Celsius is: 21.11\n"
     ]
    }
   ],
   "source": [
    "\"\"\"Q9. Write a program that converts Fahrenheit to Celsius. \n",
    "Take Fahrenheit as input from the user.\n",
    "Temperature in degrees Celsius (°C) = (Temperature in degrees Fahrenheit (°F) - 32) * 5/9\"\"\"\n",
    "\n",
    "fahrenheit = float(input(\"Enter The Fahrenheit: \"))\n",
    "\n",
    "degrees_Celsius = (fahrenheit - 32) * 5/9\n",
    "\n",
    "print(f\"Temperature in degrees Celsius is: {degrees_Celsius:.2f}\")"
   ]
  },
  {
   "cell_type": "code",
   "execution_count": 4,
   "id": "3b14fa86-d4e6-4411-a583-13834bad7b4a",
   "metadata": {},
   "outputs": [
    {
     "name": "stdin",
     "output_type": "stream",
     "text": [
      "Enter The String:  Abdeltawab\n"
     ]
    },
    {
     "name": "stdout",
     "output_type": "stream",
     "text": [
      "the number of characters is: 10\n"
     ]
    }
   ],
   "source": [
    "\"\"\"Q10. Write a program that takes a string as input \n",
    "and counts the number of characters in it.\"\"\"\n",
    "\n",
    "str_input = input(\"Enter The String: \")\n",
    "\n",
    "print(f\"the number of characters is: {len(str_input)}\")"
   ]
  },
  {
   "cell_type": "code",
   "execution_count": 1,
   "id": "d964bdcb-cefb-42bd-91a5-971002b726e7",
   "metadata": {},
   "outputs": [
    {
     "name": "stdin",
     "output_type": "stream",
     "text": [
      "Enter Number:  9\n"
     ]
    },
    {
     "name": "stdout",
     "output_type": "stream",
     "text": [
      "9 Is Prime.\n"
     ]
    }
   ],
   "source": [
    "\"\"\"Q11. Write a program that takes a number as input\n",
    "and prints whether it's a prime number or not.\"\"\"\n",
    "\n",
    "num = int(input(\"Enter Number: \"))\n",
    "\n",
    "if num <= 1:\n",
    "    print(f\"{num} Is Not Prime.\")\n",
    "elif num == 2:\n",
    "    print(f\"{num} Is Prime.\")\n",
    "for i in rang\n",
    "else:\n",
    "    print(f\"{num} Is Prime.\")"
   ]
  },
  {
   "cell_type": "code",
   "execution_count": 6,
   "id": "df235f1c-981c-4cf2-9616-87135070365b",
   "metadata": {},
   "outputs": [
    {
     "name": "stdin",
     "output_type": "stream",
     "text": [
      "Enter Number 1:  5\n",
      "Enter Number 2:  15\n",
      "Enter Number 3:  2\n"
     ]
    },
    {
     "name": "stdout",
     "output_type": "stream",
     "text": [
      "The Max Number Is: 15.\n"
     ]
    }
   ],
   "source": [
    "\"\"\"Q12. Write a program that takes three numbers as input \n",
    "and prints the maximum of those numbers.\"\"\"\n",
    "\n",
    "def maximumNum(num1, num2, num3):\n",
    "    if (num1 > num2 and num1 > num3):\n",
    "        return num1\n",
    "    elif (num2 > num1 and num2 > num3):\n",
    "        return num2\n",
    "    else:\n",
    "        return num3\n",
    "\n",
    "num1 = int(input(\"Enter Number 1: \"))\n",
    "num2 = int(input(\"Enter Number 2: \"))\n",
    "num3 = int(input(\"Enter Number 3: \"))\n",
    "\n",
    "result = maximumNum(num1, num2, num3)\n",
    "\n",
    "print(f\"The Max Number Is: {result}.\")"
   ]
  },
  {
   "cell_type": "code",
   "execution_count": 7,
   "id": "68f2526e-46d7-4a2a-8fc1-764ed2092416",
   "metadata": {},
   "outputs": [
    {
     "name": "stdout",
     "output_type": "stream",
     "text": [
      "3\n",
      "6\n",
      "9\n",
      "12\n",
      "15\n",
      "18\n",
      "21\n",
      "24\n",
      "27\n",
      "30\n"
     ]
    }
   ],
   "source": [
    "\"\"\"Q13. Write a program to print the multiples of 3 up to 30.\"\"\"\n",
    "\n",
    "for number in range(3, 31, 3):\n",
    "    print(number)"
   ]
  },
  {
   "cell_type": "code",
   "execution_count": 8,
   "id": "9804b225-7183-48a6-9d1c-c8f7407bfc74",
   "metadata": {},
   "outputs": [
    {
     "name": "stdout",
     "output_type": "stream",
     "text": [
      "The List is: [1, 2, 3, 4, 5, 6]\n"
     ]
    }
   ],
   "source": [
    "\"\"\"Q14. Create two lists and concatenate them to form a third list.\"\"\"\n",
    "\n",
    "lst_num1 = [1, 2, 3]\n",
    "\n",
    "lst_num2 = [4, 5, 6]\n",
    "\n",
    "third_lst = lst_num1 + lst_num2\n",
    "\n",
    "print(f\"The List is: {third_lst}\")"
   ]
  },
  {
   "cell_type": "code",
   "execution_count": 9,
   "id": "eae13ffd-a864-4454-ae25-bd95537942e3",
   "metadata": {},
   "outputs": [
    {
     "name": "stdin",
     "output_type": "stream",
     "text": [
      "Enter Number:  5\n"
     ]
    },
    {
     "name": "stdout",
     "output_type": "stream",
     "text": [
      "Square Number: 25\n"
     ]
    }
   ],
   "source": [
    "\"\"\"Q15. Write a program that takes a number as input and prints its square root.\"\"\"\n",
    "\n",
    "num = int(input(\"Enter Number: \"))\n",
    "\n",
    "print(f\"Square Number: {num**2}\")\n",
    "\n"
   ]
  },
  {
   "cell_type": "code",
   "execution_count": 10,
   "id": "6d6965d0-739c-401b-bcde-7a30aa7a42a3",
   "metadata": {},
   "outputs": [
    {
     "name": "stdin",
     "output_type": "stream",
     "text": [
      "Enter String:  radar\n"
     ]
    },
    {
     "name": "stdout",
     "output_type": "stream",
     "text": [
      "The String Is Palindrom.\n"
     ]
    }
   ],
   "source": [
    "\"\"\"Q16. Write a program that takes a string as input \n",
    "and checks whether it's a palindrome.\"\"\"\n",
    "\n",
    "str_input = input(\"Enter String: \")\n",
    "\n",
    "reverse_str = str_input[::-1]\n",
    "\n",
    "if str_input == reverse_str:\n",
    "    print(f\"The String Is Palindrom.\")\n",
    "else:\n",
    "    print(f\"The String Is Not Palindrom.\")"
   ]
  },
  {
   "cell_type": "code",
   "execution_count": 11,
   "id": "84176ed8-0927-4301-8284-eac99506481a",
   "metadata": {},
   "outputs": [
    {
     "name": "stdin",
     "output_type": "stream",
     "text": [
      "Enter num 1:  5\n",
      "Enter num 2:  5\n",
      "Enter num 3:  5\n"
     ]
    },
    {
     "name": "stdout",
     "output_type": "stream",
     "text": [
      "The Avergae 3 Numbers Is: 5.00\n"
     ]
    }
   ],
   "source": [
    "\"\"\"Q17. Write a program that takes three numbers as input \n",
    "and prints their average.\"\"\"\n",
    "\n",
    "def average(num1, num2, num3):\n",
    "    total = num1 + num2 + num3\n",
    "    average_num = total / 3\n",
    "    return average_num\n",
    "\n",
    "num1 = int(input(\"Enter num 1: \"))\n",
    "num2 = int(input(\"Enter num 2: \"))\n",
    "num3 = int(input(\"Enter num 3: \"))\n",
    "\n",
    "result = average(num1, num2, num3)\n",
    "\n",
    "print(f\"The Avergae 3 Numbers Is: {result:.2f}\")"
   ]
  },
  {
   "cell_type": "code",
   "execution_count": 12,
   "id": "0644fa21-c874-40ae-823d-395122ad972a",
   "metadata": {},
   "outputs": [
    {
     "name": "stdin",
     "output_type": "stream",
     "text": [
      "Enter Num1:  8\n",
      "Enter Num2:  2\n"
     ]
    },
    {
     "name": "stdout",
     "output_type": "stream",
     "text": [
      "The Number 8 is Divisible by 2.\n"
     ]
    }
   ],
   "source": [
    "\"\"\"Q18. Write a program that takes two numbers as input \n",
    "and checks whether the first number \n",
    "is divisible by the second number.\"\"\"\n",
    "\n",
    "num1 = int(input(\"Enter Num1: \"))\n",
    "num2 = int(input(\"Enter Num2: \"))\n",
    "\n",
    "if num1 % num2 == 0:\n",
    "    print(f\"The Number {num1} is Divisible by {num2}.\")\n",
    "else:\n",
    "    print(f\"The Number {num1} is Not Divisible by {num2}.\")"
   ]
  },
  {
   "cell_type": "code",
   "execution_count": 13,
   "id": "9211fe5d-6e9b-4d6f-af17-d65120cbb433",
   "metadata": {},
   "outputs": [
    {
     "name": "stdin",
     "output_type": "stream",
     "text": [
      "Enter Number 1:  5\n",
      "Enter The Operator (+, -, *, /):  *\n",
      "Enter Number 2:  5\n"
     ]
    },
    {
     "name": "stdout",
     "output_type": "stream",
     "text": [
      "5 * 5 = 25\n"
     ]
    }
   ],
   "source": [
    "\"\"\"Q19. Write a program that takes two numbers and an operator (+, -, *, /) \n",
    "as input and performs the corresponding operation.\"\"\"\n",
    "\n",
    "def calculate(num1, operator, num2):\n",
    "    if operator == '+':\n",
    "        return num1 + num2\n",
    "    elif operator == '-':\n",
    "        return num1 - num2\n",
    "    elif operator == '*':\n",
    "        return num1 * num2\n",
    "    elif operator == '/':\n",
    "        return num1 / num2\n",
    "    else:\n",
    "        return \"Error Operator\"\n",
    "\n",
    "num1 = int(input(\"Enter Number 1: \"))\n",
    "operator = input(\"Enter The Operator (+, -, *, /): \")\n",
    "num2 = int(input(\"Enter Number 2: \"))\n",
    "\n",
    "result = calculate(num1, operator, num2)\n",
    "\n",
    "print(f\"{num1} {operator} {num2} = {result}\")"
   ]
  },
  {
   "cell_type": "code",
   "execution_count": 14,
   "id": "6467ed24-3513-40cd-a605-96f8f16ab886",
   "metadata": {},
   "outputs": [
    {
     "name": "stdin",
     "output_type": "stream",
     "text": [
      "Enter num1:  5\n",
      "Enter num2:  6\n",
      "Enter num3:  7\n"
     ]
    },
    {
     "name": "stdout",
     "output_type": "stream",
     "text": [
      "The Minimum Number is: 5\n"
     ]
    }
   ],
   "source": [
    "\"\"\"Q20. Write a program that takes three numbers as input \n",
    "and prints the minimum of those numbers.\"\"\"\n",
    "\n",
    "def minimum(num1, num2, num3):\n",
    "    if num1 < num2 and num1 < num3:\n",
    "        return num1\n",
    "    elif num2 < num1 and num2 < num3:\n",
    "        return num2\n",
    "    else:\n",
    "        return num3\n",
    "\n",
    "num1 = int(input(\"Enter num1: \"))\n",
    "num2 = int(input(\"Enter num2: \"))\n",
    "num3 = int(input(\"Enter num3: \"))\n",
    "\n",
    "result = minimum(num1, num2, num3)\n",
    "\n",
    "print(f\"The Minimum Number is: {result}\")"
   ]
  },
  {
   "cell_type": "code",
   "execution_count": 15,
   "id": "2cebbaf7-608d-4ae2-82e0-d64495282c69",
   "metadata": {},
   "outputs": [
    {
     "name": "stdin",
     "output_type": "stream",
     "text": [
      "Enter The String:  Abdo\n"
     ]
    },
    {
     "name": "stdout",
     "output_type": "stream",
     "text": [
      "The Length (Abdo) Is: 4\n"
     ]
    }
   ],
   "source": [
    "\"\"\"Q21. Write a program that takes a string as input and prints its length.\"\"\"\n",
    "\n",
    "str_input = input(\"Enter The String: \")\n",
    "\n",
    "print(f\"The Length ({str_input}) Is: {len(str_input)}\")"
   ]
  },
  {
   "cell_type": "code",
   "execution_count": 18,
   "id": "f8ace0af-0b6a-4959-81d2-abb7c2073a0e",
   "metadata": {},
   "outputs": [
    {
     "name": "stdin",
     "output_type": "stream",
     "text": [
      "Enter The num:  1\n",
      "Enter The num:  2\n",
      "Enter The num:  3\n",
      "Enter The num:  4\n",
      "Enter The num:  5\n",
      "Enter The num:  6\n",
      "Enter The num:  7\n",
      "Enter The num:  8\n",
      "Enter The num:  9\n"
     ]
    },
    {
     "name": "stdout",
     "output_type": "stream",
     "text": [
      "The 5 First Number Are: \n",
      "1, 3, 5, 7, 9\n"
     ]
    }
   ],
   "source": [
    "\"\"\"Q22. Write a program to print the first five odd numbers.\"\"\"\n",
    "\n",
    "count = 0\n",
    "\n",
    "lst_num = []\n",
    "\n",
    "while True:\n",
    "    num = int(input(\"Enter The num: \"))\n",
    "\n",
    "    if num % 2 != 0:\n",
    "        lst_num.append(num)\n",
    "        count+=1\n",
    "        if count == 5:\n",
    "            break\n",
    "\n",
    "print(\"The 5 First Number Are: \")\n",
    "print(*lst_num, sep=\", \")"
   ]
  },
  {
   "cell_type": "code",
   "execution_count": 19,
   "id": "49be00c3-f3d0-41d3-a50d-3a8016747f67",
   "metadata": {},
   "outputs": [
    {
     "name": "stdout",
     "output_type": "stream",
     "text": [
      "The Sum Numbers of list is: 15\n"
     ]
    }
   ],
   "source": [
    "\"\"\"Q23. Create a list of numbers and write a program \n",
    "to find the sum of all elements in the list.\"\"\"\n",
    "\n",
    "num_lst = [1, 2, 3, 4, 5]\n",
    "\n",
    "total = 0\n",
    "\n",
    "for num in num_lst:\n",
    "    total += num\n",
    "\n",
    "print(f\"The Sum Numbers of list is: {total}\")"
   ]
  },
  {
   "cell_type": "code",
   "execution_count": 20,
   "id": "eb9d1a23-ed9e-42c2-b642-b73515c22213",
   "metadata": {},
   "outputs": [
    {
     "name": "stdin",
     "output_type": "stream",
     "text": [
      "Enter The Year:  1700\n"
     ]
    },
    {
     "name": "stdout",
     "output_type": "stream",
     "text": [
      "The Year 1700 Is Not Leap Year.\n"
     ]
    }
   ],
   "source": [
    "\"\"\"Q24. Write a program that takes a year as input \n",
    "and prints whether it's a leap year.\"\"\"\n",
    "\n",
    "def leapYear(year):\n",
    "    if year % 4 == 0:\n",
    "        if year % 100 == 0:\n",
    "            if year % 400 == 0:\n",
    "                return True\n",
    "            else:\n",
    "                return False\n",
    "        else:\n",
    "            return True\n",
    "    else:\n",
    "        return False\n",
    "\n",
    "\n",
    "\n",
    "\n",
    "year = int(input(\"Enter The Year: \"))\n",
    "\n",
    "if leapYear(year):\n",
    "    print(f\"The Year {year} Is Leap Year.\")\n",
    "else:\n",
    "    print(f\"The Year {year} Is Not Leap Year.\")"
   ]
  },
  {
   "cell_type": "code",
   "execution_count": 21,
   "id": "eada42c4-85ea-4a4f-ab10-a02fe9ff54be",
   "metadata": {},
   "outputs": [
    {
     "name": "stdin",
     "output_type": "stream",
     "text": [
      "Enter The String:  abdeltawab\n"
     ]
    },
    {
     "name": "stdout",
     "output_type": "stream",
     "text": [
      "Uppercase: ABDELTAWAB\n",
      "Lowercase: abdeltawab\n"
     ]
    }
   ],
   "source": [
    "\"\"\"Q25. Write a program that takes a string as input \n",
    "and prints it in both uppercase and lowercase.\"\"\"\n",
    "\n",
    "str_in = input(\"Enter The String: \")\n",
    "\n",
    "uppercase_string = str_in.upper()\n",
    "\n",
    "lowercase_string = str_in.lower()\n",
    "\n",
    "print(\"Uppercase:\", uppercase_string)\n",
    "print(\"Lowercase:\", lowercase_string)"
   ]
  },
  {
   "cell_type": "code",
   "execution_count": 22,
   "id": "edf5cd91-23d7-42de-aa88-bfee7414fa2b",
   "metadata": {},
   "outputs": [
    {
     "name": "stdout",
     "output_type": "stream",
     "text": [
      "The List Before Remove Elemnt: [1, 2, 3, 4, 5]\n",
      "The List After Remove Elemnt: [1, 2, 4, 5]\n"
     ]
    }
   ],
   "source": [
    "\"\"\"Q26. Create a list of five elements and remove the third element.\"\"\"\n",
    "\n",
    "lst_num = [1, 2, 3, 4, 5]\n",
    "\n",
    "print(f\"The List Before Remove Elemnt: {lst_num}\")\n",
    "\n",
    "lst_num.pop(2)\n",
    "\n",
    "print(f\"The List After Remove Elemnt: {lst_num}\")"
   ]
  },
  {
   "cell_type": "code",
   "execution_count": 5,
   "id": "0d44f0d3-afc6-4180-a323-37192b36b984",
   "metadata": {},
   "outputs": [
    {
     "name": "stdin",
     "output_type": "stream",
     "text": [
      "Enter Number:  20\n"
     ]
    },
    {
     "name": "stdout",
     "output_type": "stream",
     "text": [
      "The num 20 not of Power 2.\n"
     ]
    }
   ],
   "source": [
    "\"\"\"Q27. Write a program that takes an integer as input\n",
    "and prints whether it's a power of 2.\"\"\"\n",
    "\n",
    "def isPower():\n",
    "    num = int(input(\"Enter Number: \"))\n",
    "    if (num > 0) and (num & num - 1) == 0:\n",
    "        print(f\"The num {num} Of Power 2.\")\n",
    "    else:\n",
    "        print(f\"The num {num} not of Power 2.\")\n",
    "\n",
    "isPower()\n"
   ]
  },
  {
   "cell_type": "code",
   "execution_count": 3,
   "id": "cd98532a-08ff-4f38-bb1d-234a782b86fc",
   "metadata": {},
   "outputs": [
    {
     "name": "stdin",
     "output_type": "stream",
     "text": [
      "Enter The Character:  z\n"
     ]
    },
    {
     "name": "stdout",
     "output_type": "stream",
     "text": [
      "The Char z Is Constant.\n"
     ]
    }
   ],
   "source": [
    "\"\"\"Q28. Write a program that takes a character as input \n",
    "and checks whether it's a consonant.\"\"\"\n",
    "\n",
    "constant = ['B', 'C', 'D', 'F', 'G', 'H', 'J', 'K', 'L', 'M', 'N', 'P', 'Q', 'R', 'S', 'T', 'V', 'W', 'X', 'Y', 'Z']\n",
    "\n",
    "char_input = input(\"Enter The Character: \")\n",
    "\n",
    "if char_input.capitalize() in constant:\n",
    "    print(f\"The Char {char_input} Is Constant.\")\n",
    "else:\n",
    "    print(f\"The Char {char_input} Is Not Constant.\")\n"
   ]
  },
  {
   "cell_type": "code",
   "execution_count": 4,
   "id": "b51ec31a-fedf-4286-b9db-8458907bb05f",
   "metadata": {},
   "outputs": [
    {
     "name": "stdout",
     "output_type": "stream",
     "text": [
      "The Sort List Numbers: [3, 4, 6, 7, 8, 14, 17, 20, 25]\n"
     ]
    }
   ],
   "source": [
    "\"\"\"Q29. Create a list of numbers and write \n",
    "a program to sort it in ascending order.\"\"\"\n",
    "\n",
    "lst_num = [7, 8, 3, 4, 6, 17, 25, 20, 14]\n",
    "\n",
    "\n",
    "print(f\"The Sort List Numbers: {sorted(lst_num)}\")"
   ]
  },
  {
   "cell_type": "code",
   "execution_count": 6,
   "id": "f98874c8-60b7-4316-ae0a-04916c8894f1",
   "metadata": {},
   "outputs": [
    {
     "name": "stdout",
     "output_type": "stream",
     "text": [
      "1 * 1 = 1\n",
      "1 * 2 = 2\n",
      "1 * 3 = 3\n",
      "1 * 4 = 4\n",
      "-------------------------\n",
      "2 * 1 = 2\n",
      "2 * 2 = 4\n",
      "2 * 3 = 6\n",
      "2 * 4 = 8\n",
      "-------------------------\n",
      "3 * 1 = 3\n",
      "3 * 2 = 6\n",
      "3 * 3 = 9\n",
      "3 * 4 = 12\n",
      "-------------------------\n",
      "4 * 1 = 4\n",
      "4 * 2 = 8\n",
      "4 * 3 = 12\n",
      "4 * 4 = 16\n",
      "-------------------------\n"
     ]
    }
   ],
   "source": [
    "\"\"\"Q30. Write a program to print the \n",
    "multiplication table of a given number.\"\"\"\n",
    "\n",
    "for i in range(1, 5):\n",
    "    for j in range(1, 5):\n",
    "        print(f\"{i} * {j} = {i*j}\")\n",
    "    print(\"-\"*25)\n"
   ]
  },
  {
   "cell_type": "code",
   "execution_count": null,
   "id": "e546d109-cb88-48fb-910b-cc397370bd81",
   "metadata": {},
   "outputs": [],
   "source": []
  }
 ],
 "metadata": {
  "kernelspec": {
   "display_name": "Python 3 (ipykernel)",
   "language": "python",
   "name": "python3"
  },
  "language_info": {
   "codemirror_mode": {
    "name": "ipython",
    "version": 3
   },
   "file_extension": ".py",
   "mimetype": "text/x-python",
   "name": "python",
   "nbconvert_exporter": "python",
   "pygments_lexer": "ipython3",
   "version": "3.11.7"
  }
 },
 "nbformat": 4,
 "nbformat_minor": 5
}
