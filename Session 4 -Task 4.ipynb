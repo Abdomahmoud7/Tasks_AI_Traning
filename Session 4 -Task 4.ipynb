{
 "cells": [
  {
   "cell_type": "markdown",
   "metadata": {},
   "source": [
    "Q1- Get example - O(n!) , O(n^n)"
   ]
  },
  {
   "cell_type": "markdown",
   "metadata": {},
   "source": [
    "- O(n!):\n",
    "\n",
    ". Travelling Salesman Problem - TSP\n",
    ". snailsort\n",
    "\n",
    "- O(n^n):\n",
    ". Dynamic Programming\n",
    ". Recursive Backtracking\n",
    ". Approximation Algorithms"
   ]
  },
  {
   "cell_type": "markdown",
   "metadata": {},
   "source": [
    "Q2- ما هوا ال Heap"
   ]
  },
  {
   "cell_type": "markdown",
   "metadata": {},
   "source": [
    "Heap: is a complete binary tree\n",
    ". complete binary tree: \n",
    "- بيكون فيها كل الليفل full ماعدا الليفل الاخير \n",
    "- لازم النود تتخزن من ال left الي ال right\n",
    ". من انواعه \n",
    "- maxheap => node الروت لازم تكون اكبر من كل النود اللي تحتها\n",
    "- minheap => node الروت لازم تكون اصغر من كل النود اللي تحتها\n",
    ". Complexity Time => O(Log n)\n"
   ]
  },
  {
   "cell_type": "markdown",
   "metadata": {},
   "source": [
    "Q3- ما هي استخدامات ال B-Tree"
   ]
  },
  {
   "cell_type": "markdown",
   "metadata": {},
   "source": [
    "1- أنظمة إدارة قواعد البيانات (DBMS):\n",
    "\n",
    ". لتسريع عمليات ال database indexing تستخدم في قواعد البيانات لي ال search , insert, ubdate, delete\n",
    ". في تنظيم البيانات المخزنه علي ال disk بتقلل من عمليات i/o \n",
    "\n",
    "2- أنظمة الملفات (File Systems):\n",
    ". بتحافظ علي اداء النظام عند التعامل مع اعداد كبيرة من الملفات\n",
    "\n"
   ]
  },
  {
   "cell_type": "markdown",
   "metadata": {},
   "source": [
    "Q4- The difference between 32 bit and 64 bit"
   ]
  },
  {
   "cell_type": "markdown",
   "metadata": {},
   "source": [
    "32 bit :\n",
    ". مبيقدرش يستخدم اكتر من رامات 3 جيجا\n",
    "\n",
    "64 bit : \n",
    ". بيقدر يستوعب لحد 128 جيجا من الراماتا\n",
    ". بيعمل proseccing للبيانات بشكل اسرع \n",
    ". ودا بيسمح اني افتح اكثر من ابليكشن في نفس الوقت بدون ما اشعر بالاج\n",
    "\n",
    ". باختصار، الفرق الرئيسي بيكون في قدرة النظام على إدارة الذاكرة ومعالجة البيانات. نظام 64 بت يقدم أداءً أفضل ويستطيع التعامل مع كمية أكبر من الذاكرة مقارنة بنظام 32 بت، مما يجعله مناسبًا للتطبيقات الحديثة والاحتياجات العالية من الموارد.\n"
   ]
  },
  {
   "cell_type": "markdown",
   "metadata": {},
   "source": [
    "Q5- ما هي in line function"
   ]
  },
  {
   "cell_type": "markdown",
   "metadata": {},
   "source": [
    ". وظيفتها تحسين الكود بتاعي\n",
    ". مثلا عندي فانكشن بتعمل حاجه معينه \n",
    "واستدعيتها اكتر من مره \n",
    "كدا بكرر العمليه وهيكون عندي hidic ف الكود \n",
    ". عشان احل الموضوع ده هكتب قبل الفانكشن inline \n",
    ". يعتبر مسكت الكود اللي ف الفانكشن وعملتله نسخ \n",
    "وعملت ليه لصق ف ال main \n",
    "\n",
    ". تعتبر ال inline سلاح ذو حدين \n",
    ". لو كانت الفانكشن بتعمل شغل قليل هيكون ال inline تمام \n",
    ". لكن لو الفانكشن بتعمل شغل كتير جدا كدا ممكن تحصل مشاكل \n",
    "لان يعتبر انا باخد الكود تبع الفانكشن كامل وبحطه ف main \n",
    "ودا هيؤثر علي الميموري\n"
   ]
  },
  {
   "cell_type": "markdown",
   "metadata": {},
   "source": [
    "Q6- ما هوا ال friend function"
   ]
  },
  {
   "cell_type": "markdown",
   "metadata": {},
   "source": [
    "- الفانكشن دي بعرفها خارج الكلاس \n",
    ". ومن خلالها بقدر Access علي ال private وال protected member اللي ف الكلاس\n",
    ". طريقة استخدامها \n",
    "- داخل الكلاس بكتب ال prototype وقبله بحدد انها friend فبكتب keyword friend \n",
    ". لا تعتبر member function من فانكشن الكلاس"
   ]
  },
  {
   "cell_type": "markdown",
   "metadata": {},
   "source": [
    "Q7- ما هي ال static function"
   ]
  },
  {
   "cell_type": "markdown",
   "metadata": {},
   "source": [
    ". Static Class Members:\n",
    ".- لو عندي كلاس مثلا اسمه car وعملت منه كذا اوبجيكت\n",
    ".- وعملت counter عشان عاوز اعرف عدد العربيات اللي عملتلها اوبجيكت\n",
    ".- لو عملت كدا من غير ما اخلي ال counter static \n",
    ".- كدا هيكون العدد ثابت لانه هيكون atrbute خاص بكل اوبجيكت \n",
    ".- استخدمه ازاي :\n",
    ".- قبل ال counter اكتب static int counter\n",
    ".- ومينفعش اديله قيمه في الكلاس \n",
    ".- اجي بره الكلاس واديله قيمه int car::counter = 0\n",
    ". كدا هيبقي shared information between all objeect\n",
    "\n",
    ".---- Static Method -----.\n",
    ".- بيكون عندي utility class بتقدملي خدمات معينه \n",
    "- فالافضل الميثود اللي جوا الكلاس دي تكون ستاتيك \n",
    "- عشان استخدمها بدون ما اعمل اوبجيكت واملي الميموري علي الفاضي\n",
    ".- بتخليني استدعي الميثود من خلال الكلاس مباشر \n",
    ".- بدون ما اعمل اوبجيكت من الكلاس\n"
   ]
  },
  {
   "cell_type": "markdown",
   "metadata": {},
   "source": [
    "Q8- امتي استخدم كدا في الكلاس\n",
    ". لو عندي كلاس اسمه job\n",
    "- job.Applay()\n",
    "- newjob = job()\n",
    "- newjob.Applay():"
   ]
  },
  {
   "cell_type": "markdown",
   "metadata": {},
   "source": [
    ".1- job.Applay() \n",
    "- => بستخدم دي لو كانت الميثود ستاتيك\n",
    ".2- newjob = job() - newjob.Applay()\n",
    ".- => لو كانت Instance Methods يعني ليست ستاتيك"
   ]
  },
  {
   "cell_type": "markdown",
   "metadata": {},
   "source": [
    "Q9 - ما هي انواع الفانكشن في الكلاس في لغة بايثون\n"
   ]
  },
  {
   "cell_type": "markdown",
   "metadata": {},
   "source": [
    "1- Instance Methods :\n",
    "- بتعتمد علي مستوي الاوبجيكت \n",
    "- بتوصل لخصائص الاوبجيكت \n",
    "- بنعرفها باستخدام self\n",
    "-\n",
    "2- Static Methods :\n",
    "- مش بتعتمد علي الاوبجيكت ولا الكلاس \n",
    "- بنعرفها باستخدام الديكوريتر @staticmethod\n",
    "-\n",
    "3- Class Methods :\n",
    "- بتعتمد علي متسوي الكلاس كله وبتوصل لكل الخصائص بتاعته\n",
    "- وتقدر تعدل فيها \n",
    "- بنعرفها باستخدام الديكوريتر @classmethod\n"
   ]
  },
  {
   "cell_type": "markdown",
   "metadata": {},
   "source": [
    "Q10- The difference between structure & class"
   ]
  },
  {
   "cell_type": "markdown",
   "metadata": {},
   "source": [
    "- struct :\n",
    "- ال attbute auto بيكون public \n",
    "- بستخدمها في الستراكتشر البسيطه\n",
    "-\n",
    "- class : \n",
    "- ال attbute auto بيكون private\n",
    "- في الحجات المعقده\n",
    "-\n",
    "\n"
   ]
  },
  {
   "cell_type": "markdown",
   "metadata": {},
   "source": [
    "Q11- ما هوا ال Diamond inheritance"
   ]
  },
  {
   "cell_type": "markdown",
   "metadata": {},
   "source": [
    "- لو عندي class A وكان فيه attribute \n",
    "- وعندي class B بيرث من class A \n",
    "- وعندي class C بيرث من A برضو \n",
    "- وعندي class D بيرث من B,C \n",
    "- كدا لو عملت اوبجيكت من class D واستدعيت attribute تبع كلاس A\n",
    "- هيحصل Error \n",
    "- عشان احل المشكله دي بستخدم بقا ال virtual قبل اسم الكلاس اللي برث منه \n",
    "- كدا لو الداتا اتكررت متاخدش غير نسخه واحده بس\n",
    "-\n",
    "- python\n",
    "- بتستخدم خوارزمية MRO بتعالج المشكله بشكل تلقائي"
   ]
  }
 ],
 "metadata": {
  "language_info": {
   "name": "python"
  }
 },
 "nbformat": 4,
 "nbformat_minor": 2
}
