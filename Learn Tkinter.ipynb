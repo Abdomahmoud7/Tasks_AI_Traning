{
 "cells": [
  {
   "cell_type": "markdown",
   "metadata": {},
   "source": [
    "تصميم الواجهة الرسومية للمستخدم باستخدام Tkinter 01 GUI #python"
   ]
  },
  {
   "cell_type": "markdown",
   "metadata": {},
   "source": [
    "\"\"\" استيراد المكتبه وانشاء اللوحه الاساسيه \"\"\""
   ]
  },
  {
   "cell_type": "code",
   "execution_count": 5,
   "metadata": {},
   "outputs": [],
   "source": [
    "from tkinter import *  # امر استدعاء المكتبه\n",
    "\n",
    "myframe = Tk() # الحصول علي كلاس المكتبه الجاهز\n",
    "\n",
    "myframe.mainloop() # امر انشاء النافذه "
   ]
  },
  {
   "cell_type": "markdown",
   "metadata": {},
   "source": [
    "\"\"\" Tkinter Button انشاء الزر \"\"\""
   ]
  },
  {
   "cell_type": "code",
   "execution_count": 10,
   "metadata": {},
   "outputs": [],
   "source": [
    "from tkinter import *\n",
    "\n",
    "myframe = Tk()\n",
    "\n",
    "mybutton = Button(myframe, text = \"Clic me\") # امر الزر \n",
    "\n",
    "mybutton.pack() # دا امر اظهار الزر في المنتصف تلقائي\n",
    "\n",
    "#mybutton.pack(side = LEFT) # دا كدا لو عاوز الزر يظهر ف الشمال\n",
    "\n",
    "myframe.mainloop()\n"
   ]
  },
  {
   "cell_type": "markdown",
   "metadata": {},
   "source": [
    "\"\"\" تغير عنوان وحجم اللوحة الاساسيه \"\"\""
   ]
  },
  {
   "cell_type": "code",
   "execution_count": 11,
   "metadata": {},
   "outputs": [],
   "source": [
    "from tkinter import *\n",
    "\n",
    "myframe = Tk()\n",
    "\n",
    "myframe.title(\"My App\") # انشاء عنون اللوحة\n",
    "\n",
    "myframe.geometry(\"500x300\") # تغير حجم اللوحة\n",
    "\n",
    "mybutton = Button(myframe, text = \"Clic me\")\n",
    "\n",
    "mybutton.pack()\n",
    "\n",
    "myframe.mainloop()\n"
   ]
  },
  {
   "cell_type": "markdown",
   "metadata": {},
   "source": [
    "\"\"\" Button خصائص الزر \"\"\""
   ]
  },
  {
   "cell_type": "code",
   "execution_count": 15,
   "metadata": {},
   "outputs": [],
   "source": [
    "from tkinter import *\n",
    "\n",
    "myframe = Tk()\n",
    "\n",
    "myframe.title(\"My App\")\n",
    "\n",
    "myframe.geometry(\"500x300\")\n",
    "\n",
    "mybutton = Button(myframe, text = \"Clic me\", fg = \"blue\", bg = \"yellow\", font = \"Helvatica 20 bold\",\n",
    "                  padx=10, pady=3)\n",
    "\n",
    "mybutton.pack()\n",
    "\n",
    "#fg => بختار لون الكلمه\n",
    "#bg => لون الباكجراوند بتاع الكلمه\n",
    "# font => من خلاله بحدد حجم الخط \n",
    "\n",
    "myframe.mainloop()"
   ]
  },
  {
   "cell_type": "markdown",
   "metadata": {},
   "source": [
    "\"\"\" command tkinter button خاصية الامر للزر\"\"\""
   ]
  },
  {
   "cell_type": "code",
   "execution_count": null,
   "metadata": {},
   "outputs": [],
   "source": [
    "from tkinter import *\n",
    "\n",
    "import webbrowser\n",
    "\n",
    "def myfunction():\n",
    "    webbrowser.open(\"https://www.facebook.com/profile.php?id=100086545222519\")\n",
    "\n",
    "myframe = Tk()\n",
    "\n",
    "myframe.title(\"My App\")\n",
    "\n",
    "myframe.geometry(\"500x300\")\n",
    "\n",
    "mybutton = Button(myframe, text = \"Clic me\", fg = \"blue\", bg = \"yellow\", font = \"Helvatica 20 bold\",\n",
    "                  padx=10, pady=3, command = myfunction)\n",
    "\n",
    "# command => بتديني امر للزر \n",
    "# وممكم احط امر من خلال فانكشن باستخدام مكتبة الويب يذهب لي اي لينك\n",
    "\n",
    "mybutton.pack()\n",
    "\n",
    "myframe.mainloop()\n"
   ]
  },
  {
   "cell_type": "markdown",
   "metadata": {},
   "source": [
    "\"\"\" Tkinter Label انشاء المربع النصي \"\"\""
   ]
  },
  {
   "cell_type": "code",
   "execution_count": null,
   "metadata": {},
   "outputs": [],
   "source": [
    "from tkinter import *\n",
    "\n",
    "import webbrowser\n",
    "\n",
    "def myfunction():\n",
    "    webbrowser.open(\"https://www.facebook.com/profile.php?id=100086545222519\")\n",
    "\n",
    "\n",
    "myframe = Tk()\n",
    "\n",
    "myframe.title(\"My App\")\n",
    "\n",
    "myframe.geometry(\"500x300\")\n",
    "\n",
    "mylabel = Label(myframe, text=\"Web Brwser\", font=\"Tahoma 20 bold\") # انشاء مربع نصي\n",
    "mylabel.pack(padx=30)\n",
    "\n",
    "mybutton = Button(myframe, text = \"Clic me\", fg = \"blue\", bg = \"yellow\", font = \"Helvatica 10 bold\",\n",
    "                  padx=10, pady=3, command = myfunction)\n",
    "\n",
    "mybutton.pack()\n",
    "\n",
    "myframe.mainloop()"
   ]
  },
  {
   "cell_type": "markdown",
   "metadata": {},
   "source": [
    "\"\"\" Tkinter Entry انشاء مربع الادخال \"\"\""
   ]
  },
  {
   "cell_type": "code",
   "execution_count": null,
   "metadata": {},
   "outputs": [],
   "source": [
    "from tkinter import *\n",
    "\n",
    "import webbrowser\n",
    "\n",
    "def myfunction():\n",
    "    link = mytext.get() # بحط نص اللينك اللي عايز اروح ليه\n",
    "    webbrowser.open(link)\n",
    "\n",
    "def myFacebook():\n",
    "    webbrowser.open(\"https://www.facebook.com/profile.php?id=100086545222519\")\n",
    "\n",
    "\n",
    "myframe = Tk()\n",
    "\n",
    "myframe.title(\"My App\")\n",
    "\n",
    "myframe.geometry(\"500x300\")\n",
    "\n",
    "mylabel = Label(myframe, text=\"Web Brwser\", font=\"Tahoma 20 bold\") \n",
    "mylabel.pack(padx=30)\n",
    "\n",
    "mytext = Entry(myframe, width=50) # انشاء مربع الادخال \n",
    "mytext.pack(pady=10)\n",
    "\n",
    "button_face = Button(myframe, text=\"Go to Face book\", fg=\"blue\",bg=\"yellow\", font=\"Helvatica 10 bold\",\n",
    "                     padx=10, pady=3, command=myFacebook)\n",
    "\n",
    "button_face.pack(side=LEFT)\n",
    "\n",
    "mybutton = Button(myframe, text = \"Go to link\", fg = \"blue\", bg = \"yellow\", font = \"Helvatica 10 bold\",\n",
    "                  padx=10, pady=3, command = myfunction)\n",
    "\n",
    "mybutton.pack()\n",
    "\n",
    "myframe.mainloop()"
   ]
  },
  {
   "cell_type": "markdown",
   "metadata": {},
   "source": [
    "طريقة العرض Pack Tkinter 02 GUI #python"
   ]
  },
  {
   "cell_type": "markdown",
   "metadata": {},
   "source": [
    "\"\"\"تصميم لوحة tkinter ووضع قياساتها \"\"\""
   ]
  },
  {
   "cell_type": "code",
   "execution_count": null,
   "metadata": {},
   "outputs": [],
   "source": [
    "from tkinter import *\n",
    "\n",
    "root = Tk()\n",
    "\n",
    "root.geometry(\"200x200\")\n",
    "\n",
    "root.mainloop()"
   ]
  },
  {
   "cell_type": "markdown",
   "metadata": {},
   "source": [
    "تصميم الزر Button ومربع الادخال Entry وعرضه بطريقه pack"
   ]
  },
  {
   "cell_type": "code",
   "execution_count": 1,
   "metadata": {},
   "outputs": [],
   "source": [
    "from tkinter import *\n",
    "\n",
    "root = Tk()\n",
    "\n",
    "root.geometry(\"200x200\")\n",
    "\n",
    "mybutton = Button(root, text= \"My Button\")\n",
    "mybutton.pack(side=LEFT, anchor=\"nw\", padx=10, pady=10, ipadx=5)\n",
    "# anchor => بيسمح لي احطه في اي جانب انا عايز المربع \n",
    "\n",
    "\n",
    "myinput = Entry(root, width=20)\n",
    "myinput.pack(side=LEFT, anchor=\"nw\",pady=10, ipady=4, fill=X, expand=True)\n",
    "# ipad => بكبر منه حجم مربع الادخال \n",
    "# fill => لو عاوز حجم المربع يكبر مع تكبير الواجه - X => افقي - Y => عمودي\n",
    "\n",
    "root.mainloop()"
   ]
  },
  {
   "cell_type": "markdown",
   "metadata": {},
   "source": [
    "طريقة عرض الشبكة Grid Tkinter 03 GUI #python"
   ]
  },
  {
   "cell_type": "code",
   "execution_count": 9,
   "metadata": {},
   "outputs": [],
   "source": [
    "from tkinter import *\n",
    "\n",
    "root = Tk()\n",
    "\n",
    "root.geometry(\"400x200\")\n",
    "root.rowconfigure(0, weight=1) # توسيع الزر مع تكبير الواجهه\n",
    "\n",
    "button1 = Button(root, text = \"Button 1\")\n",
    "button1.grid(row=0, column=0, padx=10, pady=10)\n",
    "\n",
    "button2 = Button(root, text = \"Button 2\")\n",
    "button2.grid(row=0, column=1, padx=10, pady=10)\n",
    "\n",
    "button3 = Button(root, text = \"Button 3\")\n",
    "button3.grid(row=1, column=0, padx=10, pady=10)\n",
    "\n",
    "button4 = Button(root, text = \"Button 4\")\n",
    "button4.grid(row=1, column=1, padx=10, pady=10)\n",
    "\n",
    "button5 = Button(root, text = \"Button 5\")\n",
    "button5.grid(row=2, column=0, columnspan=2, padx=10, pady=10, ipadx=10, sticky=\"we\")\n",
    "\n",
    "#sticky => تمدد الزر\n",
    "\n",
    "root.mainloop()"
   ]
  },
  {
   "cell_type": "markdown",
   "metadata": {},
   "source": [
    "شرح الأجزاء Widgets Tkinter 04 GUI #python"
   ]
  },
  {
   "cell_type": "code",
   "execution_count": 31,
   "metadata": {},
   "outputs": [],
   "source": [
    "from tkinter import *\n",
    "\n",
    "root = Tk()\n",
    "\n",
    "root.title(\"My App\")\n",
    "\n",
    "root.geometry(\"600x400\")\n",
    "\n",
    "mybutton = Button(root, text=\"My Button\", fg=\"black\",bg=\"pink\").pack()\n",
    "\n",
    "mylabel = Label(root, text=\"My Label\", font=\"Thoma 12 bold\")\n",
    "mylabel.pack()\n",
    "mylabel.config(bg=\"yellow\")\n",
    "\n",
    "myentry = Entry(root, width=25).pack()\n",
    "\n",
    "mutext = Text(root, width=20, height=10).pack() # عشان اكتب اكتر من سطر\n",
    "\n",
    "mygroup = StringVar()\n",
    "myoption1 = Radiobutton(root, text = \"check me1\", variable = mygroup, value = \"check1\").pack()\n",
    "# لو عاوز اعمل خيارات\n",
    "myoption2 = Radiobutton(root, text = \"check me2\", variable = mygroup, value = \"check2\").pack()\n",
    "\n",
    "mycheckbutton = Checkbutton(root, text = \"check me\").pack() # الاختصار المتعدد\n",
    "\n",
    "myoptions = Listbox(root) # متعدد الخيارات\n",
    "myoptions.pack()\n",
    "\n",
    "myoptions.insert(1, \"Option 1\")\n",
    "myoptions.insert(2, \"Option 2\")\n",
    "myoptions.insert(3, \"Option 3\")\n",
    "\n",
    "myoptions.config(font=\"Consolas\")\n",
    "\n",
    "root.mainloop()"
   ]
  },
  {
   "cell_type": "markdown",
   "metadata": {},
   "source": [
    "الوحدات الإضافية ttk filedialog messagebox Tkinter 04 GUI #python"
   ]
  },
  {
   "cell_type": "code",
   "execution_count": 36,
   "metadata": {},
   "outputs": [],
   "source": [
    "from tkinter import *\n",
    "from tkinter import ttk # فيها خصائص حديثه\n",
    "\n",
    "root = Tk()\n",
    "\n",
    "root.geometry(\"500x300\")\n",
    "\n",
    "mybutton1 = Button(root, text=\"my button 1\", bg=\"red\").pack()\n",
    "\n",
    "mybutton2 = ttk.Button(root, text=\"my button 2\").pack() # عشان اعمل زر مميز\n",
    "\n",
    "myoption1 = Radiobutton(root, text=\"Option 1\").pack(pady=10)\n",
    "myoption2 = ttk.Radiobutton(root, text=\"Option 2\").pack(pady=10)\n",
    "\n",
    "mylist = ttk.Combobox(root, values=[\"Python\", \"Ai\", \"Machine Learning\", \"R\"]).pack()\n",
    "# دي لو عاوز يظهر محموعة خيارات في قائمه\n",
    "\n",
    "root.mainloop()"
   ]
  },
  {
   "cell_type": "code",
   "execution_count": 39,
   "metadata": {},
   "outputs": [],
   "source": [
    "from tkinter import *\n",
    "from tkinter import ttk\n",
    "from tkinter import filedialog # من خلاله اقدر اتحكم في فايلات الجهاز\n",
    "from tkinter import messagebox # لو عاوز يظهر رساله للمستخدم\n",
    "\n",
    "def hello():\n",
    "    messagebox.showinfo(title=\"Hello\", message=\"Hello \"+myentry.get())\n",
    "\n",
    "def myfile():\n",
    "    myfl = filedialog.askopenfilename(title=\"Open Your File\")\n",
    "    myentry.insert(0, myfl)\n",
    "\n",
    "root = Tk()\n",
    "\n",
    "root.geometry(\"400x200\")\n",
    "\n",
    "mybutton = ttk.Button(root, text=\"my button\", command=hello).pack()\n",
    "\n",
    "myentry = ttk.Entry(root)\n",
    "\n",
    "myentry.pack()\n",
    "\n",
    "root.mainloop()"
   ]
  },
  {
   "cell_type": "markdown",
   "metadata": {},
   "source": [
    "06 تصميم برنامج إدخال بيانات Tkinter GUI #python"
   ]
  },
  {
   "cell_type": "code",
   "execution_count": 16,
   "metadata": {},
   "outputs": [],
   "source": [
    "from tkinter import *\n",
    "from tkinter import ttk\n",
    "import tkcalendar\n",
    "\n",
    "root = Tk()\n",
    "root.title(\"Date Entry Form\")\n",
    "root.geometry(\"470x340\")\n",
    "\n",
    "#title\n",
    "title = Label(root, text=\"Date Entry Form\", font=\"Claibre 20 bold\")\n",
    "title.grid(row=0, column=0, pady=10, columnspan=4)\n",
    "\n",
    "#first and last name\n",
    "fnam_label = Label(root, text=\"First Name\")\n",
    "fnam_label.grid(row=1, column=0, padx=10, sticky=\"w\")\n",
    "\n",
    "fname_entry = Entry(root, width=20)\n",
    "fname_entry.grid(row=1, column=1)\n",
    "\n",
    "lnam_label = Label(root, text=\"    Last Name\")\n",
    "lnam_label.grid(row=1, column=2, padx=10)\n",
    "\n",
    "lname_entry = Entry(root, width=20)\n",
    "lname_entry.grid(row=1, column=3, pady=5)\n",
    "\n",
    "#birth date\n",
    "birth_label = Label(root, text=\"Birth Date\")\n",
    "birth_label.grid(row=2, column=0, padx=10, sticky=\"w\")\n",
    "\n",
    "birth_entry = tkcalendar.DateEntry(root, width=20)\n",
    "birth_entry.grid(row=2, column=1, pady=5, columnspan=3, sticky=\"we\")\n",
    "\n",
    "#Gender\n",
    "Gender = Label(root, text=\"Gender\")\n",
    "Gender.grid(row=3, column=0, padx=10, sticky=\"w\")\n",
    "\n",
    "gender = StringVar()\n",
    "gender.set(\"none\")\n",
    "#male\n",
    "male = Radiobutton(root, text=\"Male\", variable=gender, value=\"Male\")\n",
    "male.grid(row=3, column=1, pady=5, sticky=\"w\")\n",
    "\n",
    "#female\n",
    "female = Radiobutton(root, text=\"Female\", variable=gender, value=\"Female\")\n",
    "female.grid(row=3, column=2, pady=5, sticky=\"w\")\n",
    "\n",
    "#country\n",
    "country_label = Label(root, text=\"Country\")\n",
    "country_label.grid(row=4, column=0, padx=10, sticky=\"w\")\n",
    "\n",
    "country_choices = ttk.Combobox(root, width=20, values=[\"Egypt\", \"Saudi Arabia\", \"Morroco\", \"UAE\"])\n",
    "country_choices.grid(row=4, column=1, padx=10, sticky=\"we\")\n",
    "\n",
    "#Address\n",
    "text_label = Label(root, text=\"Address\")\n",
    "text_label.grid(row=5, column=0, padx=10, sticky=\"nw\")\n",
    "\n",
    "text_entry = Text(root, width=20, height=5)\n",
    "text_entry.grid(row=5, column=1, pady=5, columnspan=3, sticky=\"we\")\n",
    "\n",
    "#buttons\n",
    "def record():\n",
    "    firstname = fname_entry.get()\n",
    "    lastname = lname_entry.get()\n",
    "    gender_ = gender.get()\n",
    "    birthdate = birth_entry.get()\n",
    "    country = country_choices.get()\n",
    "    address = text_entry.get(\"1.0\", \"end-1c\")\n",
    "    text = firstname + \",\" + lastname + \",\" + gender_ + \",\" + birthdate + \",\" + country + \",\" + address + \"\\n\"\n",
    "    with open(r\"C:\\Users\\15-6-2023\\Desktop\\traning\\file.csv\", \"a\") as file:\n",
    "        file.write(text)\n",
    "    clear_all()\n",
    "\n",
    "def clear_all():\n",
    "    fname_entry.delete(0, \"end\")\n",
    "    lname_entry.delete(0, \"end\")\n",
    "    gender.set(\"none\")\n",
    "    birth_entry.delete(0, \"end\")\n",
    "    country_choices.delete(0, \"end\")\n",
    "    text_entry.delete(\"1.0\", \"end\")\n",
    "    fname_entry.focus_set()\n",
    "\n",
    "\n",
    "save = Button(root, text=\"Save\", command=record)\n",
    "save.grid(row=6, column=1, padx=10, sticky=\"e\", ipadx=10)\n",
    "\n",
    "clear = Button(root, text=\"Clear\", command=clear_all)\n",
    "clear.grid(row=6, column=2, padx=10, sticky=\"w\", ipadx=10)\n",
    "\n",
    "root.mainloop()\n",
    "\n"
   ]
  },
  {
   "cell_type": "markdown",
   "metadata": {},
   "source": [
    "07 طريقة العرض place Tkinter Place #python"
   ]
  },
  {
   "cell_type": "code",
   "execution_count": 22,
   "metadata": {},
   "outputs": [],
   "source": [
    "from tkinter import *\n",
    "\n",
    "root = Tk()\n",
    "\n",
    "root.geometry(\"500x500\")\n",
    "\n",
    "button1 = Button(root, text=\"Button 1\").place(x = 200, y=50, anchor=\"sw\")\n",
    "\n",
    "\n",
    "button2 = Button(root, text=\"Button 2\").place(x = 200, y=50, anchor=\"nw\")\n",
    "\n",
    "button3 = Button(root, text=\"Button 3\").place(relx=0.5,rely=0.5, anchor=\"center\", relwidth=0.3, relheight=0.2)\n",
    "\n",
    "button4 = Button(root, text=\"Button 1\").place(relx=1, x=-5, y=5, anchor=\"ne\", width=100, height=50)\n",
    "\n",
    "root.mainloop()"
   ]
  },
  {
   "cell_type": "markdown",
   "metadata": {},
   "source": [
    "شرح oop بالكامل وكيف استخدامها مع تكنتر"
   ]
  },
  {
   "cell_type": "code",
   "execution_count": 25,
   "metadata": {},
   "outputs": [],
   "source": [
    "from tkinter import *\n",
    "\n",
    "class TK():\n",
    "    def __init__(self, pro):\n",
    "        self.pro = pro\n",
    "        self.pro.geometry(\"400x400\")\n",
    "        self.pro.title(\"MyProgram\")\n",
    "        \n",
    "\n",
    "pro = Tk()\n",
    "\n",
    "ob = TK(pro)\n",
    "\n",
    "pro.mainloop()"
   ]
  }
 ],
 "metadata": {
  "kernelspec": {
   "display_name": "Python 3",
   "language": "python",
   "name": "python3"
  },
  "language_info": {
   "codemirror_mode": {
    "name": "ipython",
    "version": 3
   },
   "file_extension": ".py",
   "mimetype": "text/x-python",
   "name": "python",
   "nbconvert_exporter": "python",
   "pygments_lexer": "ipython3",
   "version": "3.12.0"
  }
 },
 "nbformat": 4,
 "nbformat_minor": 2
}
