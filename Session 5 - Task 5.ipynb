{
 "cells": [
  {
   "cell_type": "markdown",
   "metadata": {},
   "source": [
    "1 - الفرق بين Red black tree & AVL Tree"
   ]
  },
  {
   "cell_type": "markdown",
   "metadata": {},
   "source": [
    "- Red black Tree: \n",
    "- مش بتكون متوازنه في جميع الاوقات\n",
    "- سريعه في ال insert & delete\n",
    "- general-purpose trees\n",
    "- used in java implementation of treeMap and treeSet\n",
    "-----------------\n",
    "-AVL\n",
    "- always balanced \n",
    "- time complexity => O(log 2n)\n",
    "- بطيئه في عمليات ال insert & delete\n"
   ]
  },
  {
   "cell_type": "markdown",
   "metadata": {},
   "source": [
    "2 - الفرق بين lambda function , inline function, Anonymous Function"
   ]
  },
  {
   "cell_type": "markdown",
   "metadata": {},
   "source": [
    "-1- Lambda Function: \n",
    "- ملهاش name\n",
    "- ممكن اناديها inline من غير ما اعملها defind في اي مكان \n",
    "- ممكن استخدمها في return الخاص بالداتا من فانكشن تانيه \n",
    "- الفانكشن دي بنعملها في ال simple function \n",
    "- One single Expression not block of code\n",
    "------------------------------------------\n",
    "-2- inline Finction: \n",
    "- الميثود دي بعملها call في نفس المكان \n",
    "- الفكره العامه بتاعتها تحسين اداء الكود \n",
    "- تستخدم في لغة c++\n",
    "-------------------------------------------\n",
    "-3- Anonymous Function:\n",
    "- هي نفس شرح اول فانكشن \n",
    "- منها lambda function"
   ]
  },
  {
   "cell_type": "markdown",
   "metadata": {},
   "source": [
    "3 - هل ال struct في ال c غير نفس امكانيات الكلاس في c++ وهل اقدر اعمل inherint من struct تاني في لغة c\n",
    "وايه المميزات ف الكلاس في c++ عن ال struct في ال c "
   ]
  },
  {
   "cell_type": "markdown",
   "metadata": {},
   "source": [
    "- الفرق بي struct في c و class في c++ \n",
    "- struct in C: \n",
    "- لا يدعم oop \n",
    "- مفهوش member function\n",
    "------------------------\n",
    "- class in c++:\n",
    "- يدعم oop \n",
    "- فيه member function \n",
    "- فيه Access Control باستخدام ال public,private,protected\n",
    "------------------------------------\n",
    "-Inheritenc: \n",
    "------------------------------------\n",
    "- struct in c:\n",
    "- مفهوش وراثه \n",
    "--------\n",
    "- class in c++:\n",
    "- يدعم الوراثه بشكل كامل\n",
    "-------------------------------------\n",
    "- Access control: \n",
    "- struct in c:\n",
    "- مفهوش اكسس لان كل الميمبر تكون public\n",
    "- class in c++:\n",
    "- فيه Access\n",
    "--------------------------------------\n",
    "- Struct in C++:\n",
    "- فيه member function\n",
    "- فيه Access Control \n",
    "- فيه وراثه زي الكلاس عادي \n",
    "- الفرق الاساسي \n",
    "- struct الميمبر تكون public \n",
    "- class تكون private\n",
    "\n"
   ]
  },
  {
   "cell_type": "markdown",
   "metadata": {},
   "source": [
    "4 - ايه اهمية الديكوريتور في بايثون"
   ]
  },
  {
   "cell_type": "markdown",
   "metadata": {},
   "source": [
    "- بتعدل سلوك ال Functions\n",
    "- الديكوريتور مش موجود في لغات كتير \n",
    "- ويسمي في لغات تانيه meta programming \n",
    "- الديكوريتور بياخد الفانكشن ويضفلها شوية functionality وبيرجعها \n",
    "- وبيراقب الفانكشن دي عشان يحسن من ال Behavior بتاعها \n",
    "- او يغير فيها حاجه\n",
    "- الديكوريتور بيندرج تحت بند \n",
    "- Higher order Function => Function Accept Function As Parameter\n"
   ]
  },
  {
   "cell_type": "markdown",
   "metadata": {},
   "source": [
    "5 - ما هي sql Injection"
   ]
  },
  {
   "cell_type": "markdown",
   "metadata": {},
   "source": [
    "- ثغرة أمنيه موجوده في ال sql \n",
    "- بقدر اعمل manuplate للداتا لو بستخدم dynamic sql \n",
    "- وكدا هيكون عندي access للداتا\n"
   ]
  },
  {
   "cell_type": "markdown",
   "metadata": {},
   "source": [
    "6 - ما هوا Extream programming"
   ]
  },
  {
   "cell_type": "markdown",
   "metadata": {},
   "source": [
    "- المقصود بيها البرمجه المتزايده\n",
    "- هي احد طرق ال agile method"
   ]
  },
  {
   "cell_type": "markdown",
   "metadata": {},
   "source": [
    "7 - ما هي Tools Devops وايه الشركات اللي بتستخدم التوولز دي واشهر التولز اللي بتستخدم في الشركات "
   ]
  },
  {
   "cell_type": "markdown",
   "metadata": {},
   "source": []
  },
  {
   "cell_type": "markdown",
   "metadata": {},
   "source": [
    "8 - Tools DataOps // // // "
   ]
  },
  {
   "cell_type": "markdown",
   "metadata": {},
   "source": []
  },
  {
   "cell_type": "markdown",
   "metadata": {},
   "source": [
    "9 - Tools ML ops // // // "
   ]
  },
  {
   "cell_type": "markdown",
   "metadata": {},
   "source": []
  },
  {
   "cell_type": "markdown",
   "metadata": {},
   "source": [
    "10 - project Using uml digram convert To Coding"
   ]
  }
 ],
 "metadata": {
  "language_info": {
   "name": "python"
  }
 },
 "nbformat": 4,
 "nbformat_minor": 2
}
