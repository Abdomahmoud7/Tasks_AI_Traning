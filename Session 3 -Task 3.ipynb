{
 "cells": [
  {
   "cell_type": "markdown",
   "metadata": {},
   "source": [
    "Q1 - What is A Big O Notaion:\n",
    "-----------------------------"
   ]
  },
  {
   "cell_type": "markdown",
   "metadata": {},
   "source": [
    "- Used To Measure the Performance Of Any Algorithm.\n",
    "عن طريق انها بتدينا Order Of Groth لفانكشن معينه\n",
    "\n",
    "- منها فئات \n",
    "1- O(1) => Constant Time\n",
    "Ex: index array\n",
    "\n",
    "2- O(log n) => Logarithmic Time\n",
    "Ex: Binary Search\n",
    "\n",
    "3- O(n) => Linear Time\n",
    "Ex: Linear Search\n",
    "\n",
    "4- O(n log n) => Linear Logarithmic time\n",
    "Ex: Sort\n",
    "\n",
    "5- O(n^2) => Quadratic Time\n",
    "Ex: nested loop\n",
    "\n",
    "6- O(n^3) => Cubic \n",
    "\n",
    "7- O(2^n) => Exponential Time\n",
    "Ex: Recursive DP\n",
    "\n",
    "8- O(n!)\n",
    "\n",
    "9- O(n^n)\n",
    "\n",
    "- كل فئه من دول ليها Rate of groth معينه\n",
    "\n"
   ]
  },
  {
   "cell_type": "markdown",
   "metadata": {},
   "source": [
    "Q2- ليه ال map بترتب بسرعه :"
   ]
  },
  {
   "cell_type": "markdown",
   "metadata": {},
   "source": [
    ". لأن معظم تطبيقات ال map تستخدم داتا ستراكتشر يسمي hash table \n",
    "ودا بيعمل insert , search , delete في وقت ثابت تقريبا\n"
   ]
  },
  {
   "cell_type": "markdown",
   "metadata": {},
   "source": [
    "Q3 - ما هي اشهر Short'st Path Algorithm in Weighted graph\n"
   ]
  },
  {
   "cell_type": "markdown",
   "metadata": {},
   "source": [
    "1- Dijkstra's Algorithm\n",
    "2- Bellman-Ford Algorithm\n",
    "3- Floyed-Warshall Algorithm\n",
    "4- A* Algorithm"
   ]
  },
  {
   "cell_type": "markdown",
   "metadata": {},
   "source": [
    "Q4- Compare Between BFS & DFS\n"
   ]
  },
  {
   "cell_type": "markdown",
   "metadata": {},
   "source": [
    ". BFS:\n",
    ".بيشوف جميع النود ف المستوي الحالي قبل الانتقال الي الليفل التالي\n",
    ". بيبدأ من الروت\n",
    ". يتم تطبيقه باستخدام ال QUEUE\n",
    "\n",
    ". DFS:\n",
    ". بيبدا من نود الروت وينتقل لحد النود الاخيره\n",
    ". يتم تطبيقه باستخدام ال STACK\n",
    "\n",
    "\n"
   ]
  },
  {
   "cell_type": "markdown",
   "metadata": {},
   "source": [
    "Q5- ما هوا ال HASH MAP"
   ]
  },
  {
   "cell_type": "markdown",
   "metadata": {},
   "source": [
    ". داتا ستراكتشر مفيده جدا بستخدمها \n",
    "عشان اعمل OPTMIZE للعمليات\n",
    ". الاسخدماتا\n",
    "- تحسين سرعة الوصول لسجلات الداتا بيز\n",
    ". المميزات\n",
    "- time comblexity => O(1)\n",
    "- الكفاءه في ال search, insert, delete"
   ]
  },
  {
   "cell_type": "code",
   "execution_count": null,
   "metadata": {},
   "outputs": [],
   "source": []
  }
 ],
 "metadata": {
  "language_info": {
   "name": "python"
  }
 },
 "nbformat": 4,
 "nbformat_minor": 2
}
