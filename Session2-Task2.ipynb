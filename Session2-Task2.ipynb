{
 "cells": [
  {
   "cell_type": "markdown",
   "metadata": {},
   "source": [
    "#1 - ما هي اللغات التي يوجد بها Garbage collection"
   ]
  },
  {
   "cell_type": "code",
   "execution_count": null,
   "metadata": {},
   "outputs": [],
   "source": [
    "\"\"\"[java, c#, python, javascript, rupy, Go, PHP, Swift, R, Dart]\"\"\""
   ]
  },
  {
   "cell_type": "markdown",
   "metadata": {
    "vscode": {
     "languageId": "plaintext"
    }
   },
   "source": [
    "#2 - ما هم ال 13 مبدأ الخاص بكتابة clean code"
   ]
  },
  {
   "cell_type": "code",
   "execution_count": null,
   "metadata": {},
   "outputs": [],
   "source": [
    "\"\"\"[1- MeaningFull Name, 2- Small Function, 3- Function Arguments, 4- Comments, 5- Code Structure,\n",
    "6- Formating, 7- Error Handling, 8- Avoid Duplication, 9- Single Responsipilty Principle, \n",
    "10- Open Closed Principle, 11- Law of demeter, 12- Unit Testing, 13- Refactoring]\"\"\""
   ]
  },
  {
   "cell_type": "markdown",
   "metadata": {},
   "source": [
    "#3 - طريقة عمل do while في بايثون"
   ]
  },
  {
   "cell_type": "code",
   "execution_count": 1,
   "metadata": {},
   "outputs": [
    {
     "name": "stdout",
     "output_type": "stream",
     "text": [
      "Hello Abdo.\n"
     ]
    }
   ],
   "source": [
    "while True:\n",
    "    print(\"Hello Abdo.\")\n",
    "    \n",
    "    condition = False \n",
    "    \n",
    "    if not condition:\n",
    "        break\n"
   ]
  },
  {
   "cell_type": "markdown",
   "metadata": {},
   "source": [
    "#4 - قارن بين for and while in python"
   ]
  },
  {
   "cell_type": "code",
   "execution_count": null,
   "metadata": {},
   "outputs": [],
   "source": [
    "\"\"\"#- For - في بايثون، حلقات for غالبًا ما تكون أسرع من حلقات while عندما يكون عدد التكرارات معروفًا مسبقًا.\n",
    "تعتبر أكثر كفاءة عند التكرار على كائنات قابلة للتكرار لأن بايثون تستخدم عملية مدمجة تسمى \"iterator protocol\" التي تكون محسنة للأداء.\n",
    "عند استخدام حلقة for مع دالة range، يتم تنفيذ التكرار بكفاءة عالية.\"\"\"\n",
    "# -------------------------------\n",
    "\"\"\"- While - يمكن أن تكون أبطأ من حلقات for في بعض الحالات بسبب الحاجة إلى التحقق من الشرط في كل تكرار.\n",
    "تتطلب المزيد من الاهتمام لتجنب الحلقات غير المنتهية التي يمكن أن تؤدي إلى استهلاك غير مبرر للموارد.\"\"\""
   ]
  },
  {
   "cell_type": "markdown",
   "metadata": {},
   "source": [
    "#5 - أشهر الأدوات اللي بتعمل Debugging في بايثون"
   ]
  },
  {
   "cell_type": "code",
   "execution_count": null,
   "metadata": {},
   "outputs": [],
   "source": [
    "\"\"\"[1- PDB (Python Debugger): import pdb (pdb.set_trace()), 2- Jupyter Notebooks, 3- PyCharm Debugger, \n",
    "4- Visual Studio Code (VS Code), 5- Wing IDE, ]\"\"\""
   ]
  },
  {
   "cell_type": "markdown",
   "metadata": {},
   "source": [
    "#6- طريقة كتابة سطر بين سطور الفايل في بايثون"
   ]
  },
  {
   "cell_type": "code",
   "execution_count": 4,
   "metadata": {},
   "outputs": [],
   "source": [
    "def insert_line_in_file(name_file, line_to_insert, line_number):\n",
    "    with open(name_file, 'r') as file:\n",
    "        lines = file.readlines()\n",
    "\n",
    "    lines.insert(line_number, line_to_insert + '\\n')\n",
    "\n",
    "    with open(name_file, 'w') as file:\n",
    "        file.writelines(lines)\n",
    "\n",
    "name_file = 'taskai.txt'\n",
    "line_to_insert = 'inserted New line.'\n",
    "line_number = 1 \n",
    "\n",
    "insert_line_in_file(name_file, line_to_insert, line_number)"
   ]
  },
  {
   "cell_type": "markdown",
   "metadata": {},
   "source": [
    "\"\"\"Q31. Write a Python function square(num) that takes a number\n",
    "as input and returns its square.\"\"\""
   ]
  },
  {
   "cell_type": "code",
   "execution_count": 5,
   "metadata": {},
   "outputs": [
    {
     "name": "stdout",
     "output_type": "stream",
     "text": [
      "The Square Num 5 is: 25\n"
     ]
    }
   ],
   "source": [
    "def square_num(num):\n",
    "    return num**2\n",
    "\n",
    "num = int(input(\"Enter Number: \"))\n",
    "\n",
    "print(f\"The Square Num {num} is: {square_num(num)}\")"
   ]
  },
  {
   "cell_type": "markdown",
   "metadata": {},
   "source": [
    "\"\"\"Q32. Write a Python function sum_of_digits(number) that \n",
    "takes an integer as input and returns the sum of its digits.\"\"\""
   ]
  },
  {
   "cell_type": "code",
   "execution_count": 7,
   "metadata": {},
   "outputs": [
    {
     "name": "stdout",
     "output_type": "stream",
     "text": [
      "The sum of digits num (123): 6\n"
     ]
    }
   ],
   "source": [
    "def sum_of_digits(num):\n",
    "    num = abs(num)\n",
    "    str_num = str(num)\n",
    "    sum = 0\n",
    "    for i in range(len(str_num)):\n",
    "        sum += num % 10\n",
    "        num = num // 10\n",
    "    return sum\n",
    "\n",
    "num = int(input(\"Enter Number: \"))\n",
    "\n",
    "print(f\"The sum of digits num ({num}): {sum_of_digits(num)}\")"
   ]
  },
  {
   "cell_type": "markdown",
   "metadata": {},
   "source": [
    "\"\"\"Q33. Write a Python function reverse_string(s) that takes a string\n",
    "as input and returns the string in reverse order.\"\"\""
   ]
  },
  {
   "cell_type": "code",
   "execution_count": 8,
   "metadata": {},
   "outputs": [
    {
     "name": "stdout",
     "output_type": "stream",
     "text": [
      "The Reverse String Is: demhA\n"
     ]
    }
   ],
   "source": [
    "def revers_string():\n",
    "    string = input(\"Enter String: \")\n",
    "    \n",
    "    return string[::-1]\n",
    "\n",
    "print(f\"The Reverse String Is: {revers_string()}\")"
   ]
  },
  {
   "cell_type": "markdown",
   "metadata": {},
   "source": [
    "\"\"\"Q34. Write a Python function count_vowels(s) that takes a string\n",
    "as input and returns the count of vowels in the string.\"\"\""
   ]
  },
  {
   "cell_type": "code",
   "execution_count": 9,
   "metadata": {},
   "outputs": [
    {
     "name": "stdout",
     "output_type": "stream",
     "text": [
      "Count Vowel in sky = 0\n"
     ]
    }
   ],
   "source": [
    "vowles_lst = ['a', 'e', 'i', 'o', 'u']\n",
    "\n",
    "def coiunt_vowels(s):\n",
    "    count = 0\n",
    "    for char in s:\n",
    "        if char.lower() in vowles_lst:\n",
    "            count+=1\n",
    "\n",
    "    return count\n",
    "\n",
    "\n",
    "string = input(\"Enter a string: \")\n",
    "\n",
    "print(f\"Count Vowel in {string} = {coiunt_vowels(string)}\")"
   ]
  },
  {
   "cell_type": "markdown",
   "metadata": {},
   "source": [
    "\"\"\"Q35. Write a Python function sort_list(lst) that takes\n",
    "a list of numbers as input and returns a new list \n",
    "with the numbers sorted in ascending order.\"\"\""
   ]
  },
  {
   "cell_type": "code",
   "execution_count": 10,
   "metadata": {},
   "outputs": [
    {
     "name": "stdout",
     "output_type": "stream",
     "text": [
      "The Old List Number: [7, 9, 14, 2, 25]\n",
      "-------------------------\n",
      "The New List Sorted Number: [2, 7, 9, 14, 25]\n"
     ]
    }
   ],
   "source": [
    "def sort_list(lst):\n",
    "    new_lst = []\n",
    "    lst.sort()\n",
    "    new_lst = lst\n",
    "    return new_lst\n",
    "\n",
    "lst = []\n",
    "while True:\n",
    "    num = input(\"Enter Number: \")\n",
    "\n",
    "    if num == 'done' or num == '':\n",
    "        break\n",
    "    \n",
    "    num = int(num)\n",
    "\n",
    "    lst.append(num)\n",
    "\n",
    "print(f\"The Old List Number: {lst}\")\n",
    "print(\"-\"*25)\n",
    "print(f\"The New List Sorted Number: {sort_list(lst)}\")"
   ]
  },
  {
   "cell_type": "markdown",
   "metadata": {},
   "source": [
    "\"\"\"Q36. Write a Python function word_count(sentence) that takes a sentence\n",
    "as input and returns the number of words in the sentence.\"\"\""
   ]
  },
  {
   "cell_type": "code",
   "execution_count": 11,
   "metadata": {},
   "outputs": [
    {
     "name": "stdout",
     "output_type": "stream",
     "text": [
      "The count of words is: 3\n"
     ]
    }
   ],
   "source": [
    "def word_count(sentence):\n",
    "    word = sentence.split()\n",
    "\n",
    "    return len(word)\n",
    "\n",
    "sentence = input(\"Enter String: \")\n",
    "\n",
    "print(f\"The count of words is: {word_count(sentence)}\")"
   ]
  },
  {
   "cell_type": "markdown",
   "metadata": {},
   "source": [
    "\"\"\"Q37. Write a Python function remove_elements(lst, n) that takes\n",
    "a list and an index n as input and removes the element\n",
    "at index n from the list.\"\"\""
   ]
  },
  {
   "cell_type": "code",
   "execution_count": 12,
   "metadata": {},
   "outputs": [
    {
     "name": "stdout",
     "output_type": "stream",
     "text": [
      "The List Before Remove Elemnt: [1, 2, 3, 4]\n",
      "Index Number is remove 1 And\n",
      "The New List: [1, 3, 4]\n"
     ]
    }
   ],
   "source": [
    "def remove_elemnts(lst, n):\n",
    "    \n",
    "    if 0 <= n < len(lst):\n",
    "        lst.pop(n)\n",
    "        return f\"Index Number is remove {n} And\\nThe New List: {lst}\"\n",
    "    else:\n",
    "        return f\"Not Found Index.\"\n",
    "\n",
    "\n",
    "lst = []\n",
    "\n",
    "while True:\n",
    "    num = input(\"Enter Number To Append in List: \")\n",
    "\n",
    "    if num == 'done' or num == '':\n",
    "        break\n",
    "    \n",
    "    num = int(num)\n",
    "\n",
    "    lst.append(num)\n",
    "\n",
    "\n",
    "print(f\"The List Before Remove Elemnt: {lst}\")\n",
    "\n",
    "num_remove = int(input(\"Enter The Number is Remove in List: \"))\n",
    "\n",
    "print(remove_elemnts(lst, num_remove))"
   ]
  },
  {
   "cell_type": "markdown",
   "metadata": {},
   "source": [
    "\"\"\"Q38. Write a Python function duplicate_list(lst) that takes a list\n",
    "as input and returns a new list that duplicates \n",
    "the elements of the original list.\"\"\""
   ]
  },
  {
   "cell_type": "code",
   "execution_count": 13,
   "metadata": {},
   "outputs": [
    {
     "name": "stdout",
     "output_type": "stream",
     "text": [
      "The Old List Number: [1, 2, 3]\n",
      "The New List Dublicate Number: [1, 2, 3, 1, 2, 3]\n"
     ]
    }
   ],
   "source": [
    "def dublicate_list(lst):\n",
    "    new_lst = lst * 2\n",
    "\n",
    "    return new_lst\n",
    "\n",
    "lst = []\n",
    "while True:\n",
    "    \n",
    "    num = input(\"Enter Number: \")\n",
    "\n",
    "    if num == 'done' or num == '':\n",
    "        break\n",
    "    \n",
    "    num = int(num)\n",
    "\n",
    "    lst.append(num)\n",
    "\n",
    "print(f\"The Old List Number: {lst}\")\n",
    "\n",
    "print(f\"The New List Dublicate Number: {dublicate_list(lst)}\")"
   ]
  },
  {
   "cell_type": "markdown",
   "metadata": {},
   "source": [
    "\"\"\"Q39. Write a Python function is_divisible(num1, num2) \n",
    "that takes two numbers as input and returns \n",
    "True if the first number is divisible by the second number, \n",
    "and False otherwise.\"\"\""
   ]
  },
  {
   "cell_type": "code",
   "execution_count": 14,
   "metadata": {},
   "outputs": [
    {
     "name": "stdout",
     "output_type": "stream",
     "text": [
      "True\n"
     ]
    }
   ],
   "source": [
    "def is_divisible():\n",
    "    num1 = int(input(\"Enter Number 1: \"))\n",
    "    num2 = int(input(\"Enter Number 2: \"))\n",
    "\n",
    "    if num1 % num2 == 0:\n",
    "        return True\n",
    "    else:\n",
    "        return False\n",
    "\n",
    "print(is_divisible())"
   ]
  },
  {
   "cell_type": "markdown",
   "metadata": {},
   "source": [
    "\"\"\"Q40. Write a Python function power(base, exponent) that takes \n",
    "a base and an exponent as input and returns \n",
    "the result of the base raised to the exponent.\"\"\""
   ]
  },
  {
   "cell_type": "code",
   "execution_count": 15,
   "metadata": {},
   "outputs": [
    {
     "name": "stdout",
     "output_type": "stream",
     "text": [
      "4\n"
     ]
    }
   ],
   "source": [
    "def power():\n",
    "    base = int(input(\"Enter The Base: \"))\n",
    "    exponent = int(input(\"Enter The Exponent: \"))\n",
    "    return pow(base, exponent)\n",
    "\n",
    "print(power())"
   ]
  },
  {
   "cell_type": "markdown",
   "metadata": {},
   "source": [
    "Q41. Write a program which will find all such numbers which are divisible by 7 but are not divisible by 5, between 2000 and 3000 (both included). The numbers obtained should be printed in a comma-separated sequence on a single line."
   ]
  },
  {
   "cell_type": "code",
   "execution_count": 5,
   "metadata": {},
   "outputs": [
    {
     "name": "stdout",
     "output_type": "stream",
     "text": [
      "2002,2009,2016,2023,2037,2044,2051,2058,2072,2079,2086,2093,2107,2114,2121,2128,2142,2149,2156,2163,2177,2184,2191,2198,2212,2219,2226,2233,2247,2254,2261,2268,2282,2289,2296,2303,2317,2324,2331,2338,2352,2359,2366,2373,2387,2394,2401,2408,2422,2429,2436,2443,2457,2464,2471,2478,2492,2499,2506,2513,2527,2534,2541,2548,2562,2569,2576,2583,2597,2604,2611,2618,2632,2639,2646,2653,2667,2674,2681,2688,2702,2709,2716,2723,2737,2744,2751,2758,2772,2779,2786,2793,2807,2814,2821,2828,2842,2849,2856,2863,2877,2884,2891,2898,2912,2919,2926,2933,2947,2954,2961,2968,2982,2989,2996\n"
     ]
    }
   ],
   "source": [
    "result = []\n",
    "\n",
    "for num in range(2000, 3001):\n",
    "    if (num % 7 == 0) and (num % 5 != 0):\n",
    "        result.append(str(num))\n",
    "\n",
    "print(\",\".join(result))\n"
   ]
  },
  {
   "cell_type": "markdown",
   "metadata": {},
   "source": [
    "### 42. Write a program which can compute the factorial of a given numbers. The results should be printed in a comma-separated sequence on a single line.\n",
    "    5 8\n",
    "    Then, the output should be:\n",
    "    120,40320"
   ]
  },
  {
   "cell_type": "code",
   "execution_count": 9,
   "metadata": {},
   "outputs": [
    {
     "name": "stdout",
     "output_type": "stream",
     "text": [
      "120,40320\n"
     ]
    }
   ],
   "source": [
    "def factorial(n):\n",
    "    if n == 0:\n",
    "        return 1\n",
    "    else:\n",
    "        return n * (factorial(n - 1))\n",
    "    \n",
    "numbers = input(\"Enter Numbers: \")\n",
    "\n",
    "num_lst = numbers.split(\",\")\n",
    "\n",
    "factorials = [str(factorial(int(num))) for num in num_lst]\n",
    "\n",
    "print(\",\".join(factorials))"
   ]
  },
  {
   "cell_type": "markdown",
   "metadata": {},
   "source": [
    "### 43. With a given integral number n, write a program to generate a dictionary that contains (i, i*i) such that is an integral number between 1 and n (both included). and then the program should print the dictionary.\n",
    "    Suppose the following input is supplied to the program:\n",
    "    8\n",
    "    Then, the output should be:\n",
    "    {1: 1, 2: 4, 3: 9, 4: 16, 5: 25, 6: 36, 7: 49, 8: 64}"
   ]
  },
  {
   "cell_type": "code",
   "execution_count": 10,
   "metadata": {},
   "outputs": [
    {
     "name": "stdout",
     "output_type": "stream",
     "text": [
      "{1: 1, 2: 4, 3: 9, 4: 16, 5: 25, 6: 36, 7: 49, 8: 64}\n"
     ]
    }
   ],
   "source": [
    "num = int(input(\"Enter Num: \"))\n",
    "\n",
    "num_dict = {i: i*i for i in range(1, num+1)}\n",
    "\n",
    "print(num_dict)"
   ]
  },
  {
   "cell_type": "markdown",
   "metadata": {},
   "source": [
    "### 44. Write a program which accepts a sequence of comma-separated numbers from console and generate a list and a tuple which contains every number. Suppose the following input is supplied to the program:\n",
    "    34,67,55,33,12,98\n",
    "    Then, the output should be:\n",
    "    ['34', '67', '55', '33', '12', '98']\n",
    "    ('34', '67', '55', '33', '12', '98')"
   ]
  },
  {
   "cell_type": "code",
   "execution_count": 12,
   "metadata": {},
   "outputs": [
    {
     "name": "stdout",
     "output_type": "stream",
     "text": [
      "['34', '67', '55', '33', '12', '98']\n",
      "('34', '67', '55', '33', '12', '98')\n"
     ]
    }
   ],
   "source": [
    "numbers = input(\"Enter Numebrs: \")\n",
    "\n",
    "num_lst = numbers.split(\",\")\n",
    "\n",
    "t_num = tuple(num_lst)\n",
    "\n",
    "print(num_lst)\n",
    "print(t_num)"
   ]
  },
  {
   "cell_type": "markdown",
   "metadata": {},
   "source": [
    "### 45. Write a program that calculates and prints the value according to the given formula:\n",
    "    Q = Square root of [(2 * C * D) / H], \n",
    "        C is 50. H is 30.\n",
    "        D is the variable whose values should be input to your program in a comma-separated sequence.\n",
    "\n",
    "- Example\n",
    "    - Let us assume the following comma separated input sequence is given to the program:\n",
    "        100,150,180\n",
    "    - The output of the program should be:\n",
    "        18,22,24"
   ]
  },
  {
   "cell_type": "code",
   "execution_count": 16,
   "metadata": {},
   "outputs": [
    {
     "name": "stdout",
     "output_type": "stream",
     "text": [
      "18,22,24\n"
     ]
    }
   ],
   "source": [
    "import math\n",
    "\n",
    "c = 50\n",
    "\n",
    "h = 30\n",
    "\n",
    "num_input = input(\"Enter Number\")\n",
    "\n",
    "D_num = num_input.split(\",\")\n",
    "\n",
    "\n",
    "new_lst = []\n",
    "\n",
    "\n",
    "for D in D_num:\n",
    "    D = int(D)\n",
    "    Q = math.sqrt((2 * c * D) / h)\n",
    "    new_lst.append(str(int(Q)))\n",
    "\n",
    "print(\",\".join(new_lst))"
   ]
  },
  {
   "cell_type": "markdown",
   "metadata": {},
   "source": [
    "### 46. Write a program which takes 2 digits, X,Y as input and generates a 2-dimensional array. The element value in the i-th row and j-th column of the array should be i*j.\n",
    "    Example\n",
    "        Suppose the following inputs are given to the program:\n",
    "        3,5\n",
    "        Then, the output of the program should be:\n",
    "        [[0, 0, 0, 0, 0], [0, 1, 2, 3, 4], [0, 2, 4, 6, 8]]"
   ]
  },
  {
   "cell_type": "code",
   "execution_count": 17,
   "metadata": {},
   "outputs": [
    {
     "name": "stdout",
     "output_type": "stream",
     "text": [
      "[0, 0, 0, 0, 0]\n",
      "[0, 1, 2, 3, 4]\n",
      "[0, 2, 4, 6, 8]\n"
     ]
    }
   ],
   "source": [
    "input_num = input(\"Enter X,Y: \")\n",
    "\n",
    "X, Y = map(int, input_num.split(\",\"))\n",
    "\n",
    "array = [[i*j for j in range(Y)] for i in range(X)]\n",
    "\n",
    "for rwo in array:\n",
    "    print(rwo)"
   ]
  },
  {
   "cell_type": "markdown",
   "metadata": {},
   "source": [
    "### 47. Write a program that accepts a sequence of whitespace separated words as input and prints the words after removing all duplicate words and sorting them alphanumerically. Suppose the following input is supplied to the program:\n",
    "    hello world and practice makes perfect and hello world again\n",
    "    Then, the output should be:\n",
    "    again and hello makes perfect practice world"
   ]
  },
  {
   "cell_type": "code",
   "execution_count": 22,
   "metadata": {},
   "outputs": [
    {
     "name": "stdout",
     "output_type": "stream",
     "text": [
      "again and hello makes perfect practice world\n"
     ]
    }
   ],
   "source": [
    "str_input = input(\"Enter The string: \")\n",
    "\n",
    "lst_str = str_input.split(\" \")\n",
    "\n",
    "set_str = set(lst_str)\n",
    "\n",
    "lst_sorted = sorted(set_str)\n",
    "print(\" \".join(lst_sorted))"
   ]
  },
  {
   "cell_type": "markdown",
   "metadata": {},
   "source": [
    "### 48.Write a program which accepts a sequence of comma separated 4 digit binary numbers as its input and then check whether they are divisible by 5 or not. The numbers that are divisible by 5 are to be printed in a comma separated sequence.\n",
    "\n",
    "    Example:\n",
    "    0100,0011,1010,1001\n",
    "    Then the output should be:\n",
    "    1010"
   ]
  },
  {
   "cell_type": "code",
   "execution_count": 4,
   "metadata": {},
   "outputs": [
    {
     "name": "stdout",
     "output_type": "stream",
     "text": [
      "1010\n"
     ]
    }
   ],
   "source": [
    "input_num = input(\"Enter num: \")\n",
    "\n",
    "lst_split = input_num.split(\",\")\n",
    "\n",
    "lst_num = []\n",
    "\n",
    "for num in lst_split:\n",
    "    if int(num, 2) % 5 == 0:\n",
    "        lst_num.append(num)\n",
    "\n",
    "\n",
    "print(\",\".join(lst_num))\n"
   ]
  },
  {
   "cell_type": "markdown",
   "metadata": {},
   "source": [
    "### 49. Write a program, which will find all such numbers between 1000 and 3000 (both included) such that each digit of the number is an even number. The numbers obtained should be printed in a comma-separated sequence on a single line."
   ]
  },
  {
   "cell_type": "code",
   "execution_count": 9,
   "metadata": {},
   "outputs": [
    {
     "name": "stdout",
     "output_type": "stream",
     "text": [
      "2000,2002,2004,2006,2008,2020,2022,2024,2026,2028,2040,2042,2044,2046,2048,2060,2062,2064,2066,2068,2080,2082,2084,2086,2088,2200,2202,2204,2206,2208,2220,2222,2224,2226,2228,2240,2242,2244,2246,2248,2260,2262,2264,2266,2268,2280,2282,2284,2286,2288,2400,2402,2404,2406,2408,2420,2422,2424,2426,2428,2440,2442,2444,2446,2448,2460,2462,2464,2466,2468,2480,2482,2484,2486,2488,2600,2602,2604,2606,2608,2620,2622,2624,2626,2628,2640,2642,2644,2646,2648,2660,2662,2664,2666,2668,2680,2682,2684,2686,2688,2800,2802,2804,2806,2808,2820,2822,2824,2826,2828,2840,2842,2844,2846,2848,2860,2862,2864,2866,2868,2880,2882,2884,2886,2888\n"
     ]
    }
   ],
   "source": [
    "num_lst = []\n",
    "\n",
    "for num in range(1000, 3001):\n",
    "    if all(int(digit) % 2 == 0 for digit in str(num)):\n",
    "        num_lst.append(str(num))\n",
    "\n",
    "print(\",\".join(num_lst))"
   ]
  },
  {
   "cell_type": "markdown",
   "metadata": {},
   "source": [
    "### 50. Write a program that accepts a sentence and calculate the number of letters and digits. Suppose the following input is supplied to the program:\n",
    "\n",
    "    \"hello world 123\"\n",
    "    Then, the output should be:\n",
    "        LETTERS 10\n",
    "        DIGITS 3"
   ]
  },
  {
   "cell_type": "code",
   "execution_count": 3,
   "metadata": {},
   "outputs": [
    {
     "name": "stdout",
     "output_type": "stream",
     "text": [
      "LETTERS: 10\n",
      "DIGITS: 3\n"
     ]
    }
   ],
   "source": [
    "sentence = input(\"Enter The Word: \")\n",
    "\n",
    "letter_count = 0\n",
    "letter_digit = 0\n",
    "\n",
    "for char in sentence:\n",
    "    if char.isalpha():\n",
    "        letter_count += 1\n",
    "    elif char.isdigit():\n",
    "        letter_digit += 1\n",
    "\n",
    "print(\"LETTERS:\",letter_count)\n",
    "print(\"DIGITS:\",letter_digit)\n",
    "\n"
   ]
  },
  {
   "cell_type": "markdown",
   "metadata": {},
   "source": [
    "### 51. Write a program that accepts a sentence and calculate the number of upper case letters and lower case letters. Suppose the following input is supplied to the program:\n",
    "\n",
    "    Hello World\n",
    "    Then, the output should be:\n",
    "        UPPER CASE 2\n",
    "        LOWER CASE 8"
   ]
  },
  {
   "cell_type": "code",
   "execution_count": 4,
   "metadata": {},
   "outputs": [
    {
     "name": "stdout",
     "output_type": "stream",
     "text": [
      "UPPER CASE: 2\n",
      "LOWER CASE: 8\n"
     ]
    }
   ],
   "source": [
    "sentence = input(\"Enter The Word: \")\n",
    "\n",
    "count_upper = 0\n",
    "count_lower = 0\n",
    "\n",
    "for char in sentence:\n",
    "    if char.isupper():\n",
    "        count_upper += 1\n",
    "    elif char.islower():\n",
    "        count_lower += 1\n",
    "\n",
    "print(\"UPPER CASE:\",count_upper)\n",
    "print(\"LOWER CASE:\",count_lower)"
   ]
  },
  {
   "cell_type": "markdown",
   "metadata": {},
   "source": [
    "### 52. Use a list comprehension to square each odd number in a list. The list is input by a sequence of comma-separated numbers. Suppose the following input is supplied to the program:\n",
    "    1,2,3,4,5,6,7,8,9\n",
    "    Then, the output should be:\n",
    "    1,3,5,7,9"
   ]
  },
  {
   "cell_type": "code",
   "execution_count": 8,
   "metadata": {},
   "outputs": [
    {
     "name": "stdout",
     "output_type": "stream",
     "text": [
      "1,3,5,7,9\n"
     ]
    }
   ],
   "source": [
    "inp_str = input(\"input by a sequence of comma-separated numbers: \")\n",
    "\n",
    "numbers = list(map(int, inp_str.split(\",\")))\n",
    "\n",
    "num_odd = [num for num in numbers if num % 2 != 0]\n",
    "\n",
    "print(*num_odd, sep = \",\")"
   ]
  },
  {
   "cell_type": "markdown",
   "metadata": {},
   "source": [
    "### 53. You are required to write a program to sort the (name, age, height) tuples by ascending order where name is string, age and height are numbers. The tuples are input by console. The sort criteria is:\n",
    "    1: Sort based on name;\n",
    "    2: Then sort based on age;\n",
    "    3: Then sort by score.\n",
    "    The priority is that name > age > score.\n",
    "\n",
    "    If the following tuples are given as input to the program:\n",
    "        Tom,19,80\n",
    "        John,20,90\n",
    "        Jony,17,91\n",
    "        Jony,17,93\n",
    "        Json,21,85\n",
    "    Then, the output of the program should be:\n",
    "    [('John', '20', '90'), ('Jony', '17', '91'), ('Jony', '17', '93'), ('Json', '21', '85'), ('Tom', '19', '80')]"
   ]
  },
  {
   "cell_type": "code",
   "execution_count": 9,
   "metadata": {},
   "outputs": [
    {
     "name": "stdout",
     "output_type": "stream",
     "text": [
      "Enter the tuples (name, age, height), one per line (press Enter to stop):\n",
      "[('John', '20', '90'), ('Jony', '17', '91'), ('Jony', '17', '93'), ('Json', '21', '85'), ('Tom', '19', '18')]\n"
     ]
    }
   ],
   "source": [
    "tuble_list = []\n",
    "\n",
    "print(\"Enter the tuples (name, age, height), one per line (press Enter to stop):\")\n",
    "\n",
    "while True:\n",
    "    \n",
    "\t\ttry:\n",
    "\t\t\tuser_input = input()\n",
    "\n",
    "\t\t\tif not user_input:\n",
    "\t\t\t\tbreak\n",
    "\n",
    "\t\t\tname,age,height = user_input.split(\",\")\n",
    "\t\t\ttuble_list.append((name, age, height))\n",
    "\t\texcept EOFError:\n",
    "\t\t\tbreak\n",
    "\n",
    "sorted_list = sorted(tuble_list, key = lambda x: (x[0], int(x[1]), int(x[2])))\n",
    "\n",
    "print(sorted_list)"
   ]
  },
  {
   "cell_type": "markdown",
   "metadata": {},
   "source": [
    "### 54. Define a function that can accept an integer number as input and print the \"It is an even number\" if the number is even, otherwise print \"It is an odd number\"."
   ]
  },
  {
   "cell_type": "code",
   "execution_count": 12,
   "metadata": {},
   "outputs": [
    {
     "name": "stdout",
     "output_type": "stream",
     "text": [
      "The Num 7 is Odd.\n"
     ]
    }
   ],
   "source": [
    "def num_even_or_odd(num):\n",
    "    if num % 2 == 0:\n",
    "        print(f\"The Num {num} is Even.\")\n",
    "    else:\n",
    "        print(f\"The Num {num} is Odd.\")\n",
    "\n",
    "num = int(input(\"Enter The num: \"))\n",
    "\n",
    "num_even_or_odd(num)"
   ]
  },
  {
   "cell_type": "markdown",
   "metadata": {},
   "source": [
    "### 55.The Fibonacci Sequence is computed based on the following formula:\n",
    "    f(n)=0 if n=0\n",
    "    f(n)=1 if n=1\n",
    "    f(n)=f(n-1)+f(n-2) if n>1\n",
    "\n",
    "- Please write a program using list comprehension to print the Fibonacci Sequence in comma separated form with a given n input by console.\n",
    "\n",
    "- Example:\n",
    "\n",
    "    If the following n is given as input to the program:\n",
    "    7\n",
    "    Then, the output of the program should be:\n",
    "    0,1,1,2,3,5,8,13"
   ]
  },
  {
   "cell_type": "code",
   "execution_count": 21,
   "metadata": {},
   "outputs": [
    {
     "name": "stdout",
     "output_type": "stream",
     "text": [
      "0,1,1,2,3,5,8\n"
     ]
    }
   ],
   "source": [
    "def fibonacci_sequence(n):\n",
    "    if n == 0:\n",
    "        return []\n",
    "    elif n == 1:\n",
    "        return [0]\n",
    "    else:\n",
    "        lst = [0, 1]\n",
    "        [lst.append(lst[-1] + lst[-2]) for _ in range(2, n)]\n",
    "        return lst\n",
    "\n",
    "num = int(input(\"Enter number: \"))\n",
    "\n",
    "fipo = fibonacci_sequence(num)\n",
    "\n",
    "print(\",\".join(map(str, fipo)))"
   ]
  },
  {
   "cell_type": "markdown",
   "metadata": {},
   "source": [
    "### Q56. Define a Python class named 'Person' with attributes 'name' and 'age'."
   ]
  },
  {
   "cell_type": "code",
   "execution_count": 1,
   "metadata": {},
   "outputs": [
    {
     "name": "stdout",
     "output_type": "stream",
     "text": [
      "Name: Abdo, Age: 22\n"
     ]
    }
   ],
   "source": [
    "class Person:\n",
    "    def __init__(self, name, age):\n",
    "        self.name = name\n",
    "        self.age = age\n",
    "    \n",
    "\n",
    "P1 = Person(\"Abdo\", 22)\n",
    "\n",
    "print(f\"Name: {P1.name}, Age: {P1.age}\")"
   ]
  },
  {
   "cell_type": "markdown",
   "metadata": {},
   "source": [
    "### Q57. Add a constructor to the 'Person' class that initializes the 'name' and 'age' attributes."
   ]
  },
  {
   "cell_type": "code",
   "execution_count": 2,
   "metadata": {},
   "outputs": [
    {
     "name": "stdout",
     "output_type": "stream",
     "text": [
      "Name: Abdo, Age: 22\n",
      "Name: Ahmed, Age: 24\n"
     ]
    }
   ],
   "source": [
    "class Person:\n",
    "    def __init__(self, name, age):\n",
    "        self.name = name\n",
    "        self.age = age\n",
    "    \n",
    "\n",
    "P1 = Person(\"Abdo\", 22)\n",
    "P2 = Person(\"Ahmed\", 24)\n",
    "\n",
    "print(f\"Name: {P1.name}, Age: {P1.age}\")\n",
    "print(f\"Name: {P2.name}, Age: {P2.age}\")"
   ]
  },
  {
   "cell_type": "markdown",
   "metadata": {},
   "source": [
    "### Q58. Create an instance method in the 'Person' class that prints the person's information."
   ]
  },
  {
   "cell_type": "code",
   "execution_count": 1,
   "metadata": {},
   "outputs": [
    {
     "name": "stdout",
     "output_type": "stream",
     "text": [
      "Name: Abdo, Age: 22\n",
      "Name: Ahmed, Age: 24\n"
     ]
    }
   ],
   "source": [
    "class Person:\n",
    "    def __init__(self, name, age):\n",
    "        self.name = name\n",
    "        self.age = age\n",
    "    \n",
    "    def print_info(self):\n",
    "        print(f\"Name: {self.name}, Age: {self.age}\")\n",
    "\n",
    "P1 = Person(\"Abdo\", 22)\n",
    "P2 = Person(\"Ahmed\", 24)\n",
    "\n",
    "P1.print_info()\n",
    "P2.print_info()\n"
   ]
  },
  {
   "cell_type": "markdown",
   "metadata": {},
   "source": [
    "### Q59. Create an object of the 'Person' class and call the instance method to display its information."
   ]
  },
  {
   "cell_type": "code",
   "execution_count": 2,
   "metadata": {},
   "outputs": [
    {
     "name": "stdout",
     "output_type": "stream",
     "text": [
      "Name: Abdo, Age: 22\n"
     ]
    }
   ],
   "source": [
    "class Person:\n",
    "    def __init__(self, name, age):\n",
    "        self.name = name\n",
    "        self.age = age\n",
    "    \n",
    "    def print_info(self):\n",
    "        print(f\"Name: {self.name}, Age: {self.age}\")\n",
    "\n",
    "Person1 = Person(\"Abdo\", 22)\n",
    "\n",
    "Person1.print_info()"
   ]
  },
  {
   "cell_type": "markdown",
   "metadata": {},
   "source": [
    "### Q60. Create a subclass 'Student' that inherits from the 'Person' class, and add a new attribute 'student_id'."
   ]
  },
  {
   "cell_type": "code",
   "execution_count": 5,
   "metadata": {},
   "outputs": [
    {
     "name": "stdout",
     "output_type": "stream",
     "text": [
      "Name: Abdo, Age: 22\n",
      "student ID: 42022311\n"
     ]
    }
   ],
   "source": [
    "class Person:\n",
    "    def __init__(self, name, age):\n",
    "        self.name = name\n",
    "        self.age = age\n",
    "    \n",
    "    def print_info(self):\n",
    "        print(f\"Name: {self.name}, Age: {self.age}\")\n",
    "\n",
    "class Student(Person):\n",
    "    def __init__(self,name, age, student_id):\n",
    "        super().__init__(name, age)\n",
    "        self.student_id = student_id\n",
    "    def print_info(self):\n",
    "        super().print_info()\n",
    "        print(f\"student ID: {self.student_id}\")\n",
    "\n",
    "\n",
    "student1 = Student(\"Abdo\", 22, 42022311)\n",
    "\n",
    "student1.print_info()"
   ]
  }
 ],
 "metadata": {
  "kernelspec": {
   "display_name": "Python 3",
   "language": "python",
   "name": "python3"
  },
  "language_info": {
   "codemirror_mode": {
    "name": "ipython",
    "version": 3
   },
   "file_extension": ".py",
   "mimetype": "text/x-python",
   "name": "python",
   "nbconvert_exporter": "python",
   "pygments_lexer": "ipython3",
   "version": "3.12.0"
  }
 },
 "nbformat": 4,
 "nbformat_minor": 2
}
